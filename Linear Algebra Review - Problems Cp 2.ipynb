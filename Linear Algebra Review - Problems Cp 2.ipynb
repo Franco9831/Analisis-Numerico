{
  "nbformat": 4,
  "nbformat_minor": 0,
  "metadata": {
    "colab": {
      "name": "Notebook A-N.ipynb",
      "provenance": [],
      "collapsed_sections": [],
      "toc_visible": true
    },
    "kernelspec": {
      "name": "python3",
      "display_name": "Python 3"
    }
  },
  "cells": [
    {
      "cell_type": "code",
      "metadata": {
        "id": "inhK4lg6tPmp"
      },
      "source": [
        "# importando modulos necesarios\r\n",
        "%matplotlib inline\r\n",
        "\r\n",
        "import matplotlib.pyplot as plt\r\n",
        "import numpy as np\r\n",
        "import scipy.sparse as sp\r\n",
        "import scipy.sparse.linalg\r\n",
        "import scipy.linalg as la\r\n",
        "import sympy as sp"
      ],
      "execution_count": 1348,
      "outputs": []
    },
    {
      "cell_type": "markdown",
      "metadata": {
        "id": "Mz8Nql6Cug8I"
      },
      "source": [
        "#**Algebra Lineal - Repaso**\r\n",
        "####Objetivos:\r\n",
        "\r\n",
        "\r\n",
        "\r\n",
        "1.   Aprender\r\n",
        "2.   Practicar\r\n",
        "3.   Programar\r\n",
        "\r\n",
        "\r\n"
      ]
    },
    {
      "cell_type": "markdown",
      "metadata": {
        "id": "VlKYnd_dGo4j"
      },
      "source": [
        "## Espacios vectoriales"
      ]
    },
    {
      "cell_type": "code",
      "metadata": {
        "colab": {
          "base_uri": "https://localhost:8080/",
          "height": 37
        },
        "id": "vifCtL9-Lpmb",
        "outputId": "238631cc-166a-469a-b24a-e1bb463528ce"
      },
      "source": [
        "v1=[1,2,3]\r\n",
        "v1"
      ],
      "execution_count": 1349,
      "outputs": [
        {
          "output_type": "execute_result",
          "data": {
            "text/latex": "$\\displaystyle \\left[ 1, \\  2, \\  3\\right]$",
            "text/plain": [
              "[1, 2, 3]"
            ]
          },
          "metadata": {
            "tags": []
          },
          "execution_count": 1349
        }
      ]
    },
    {
      "cell_type": "markdown",
      "metadata": {
        "id": "KQh6yYX4MiyX"
      },
      "source": [
        ""
      ]
    },
    {
      "cell_type": "code",
      "metadata": {
        "colab": {
          "base_uri": "https://localhost:8080/"
        },
        "id": "aumoZlaDMoxc",
        "outputId": "5d8051f3-41f9-4998-94d3-6864b4120f49"
      },
      "source": [
        "v2=np.ones(3)\r\n",
        "v2"
      ],
      "execution_count": 1350,
      "outputs": [
        {
          "output_type": "execute_result",
          "data": {
            "text/plain": [
              "array([1., 1., 1.])"
            ]
          },
          "metadata": {
            "tags": []
          },
          "execution_count": 1350
        }
      ]
    },
    {
      "cell_type": "code",
      "metadata": {
        "colab": {
          "base_uri": "https://localhost:8080/"
        },
        "id": "-xZA1kkBNAOV",
        "outputId": "cfaf8562-fd20-440a-a5ce-8ba50d722f83"
      },
      "source": [
        "v3=np.array([1,2,3])\r\n",
        "v3"
      ],
      "execution_count": 1351,
      "outputs": [
        {
          "output_type": "execute_result",
          "data": {
            "text/plain": [
              "array([1, 2, 3])"
            ]
          },
          "metadata": {
            "tags": []
          },
          "execution_count": 1351
        }
      ]
    },
    {
      "cell_type": "code",
      "metadata": {
        "colab": {
          "base_uri": "https://localhost:8080/"
        },
        "id": "68GD4B6VNL3W",
        "outputId": "66df02ee-c7b4-45d5-9c0f-e4155818df2f"
      },
      "source": [
        "v4=np.arange(1,5)\r\n",
        "v4"
      ],
      "execution_count": 1352,
      "outputs": [
        {
          "output_type": "execute_result",
          "data": {
            "text/plain": [
              "array([1, 2, 3, 4])"
            ]
          },
          "metadata": {
            "tags": []
          },
          "execution_count": 1352
        }
      ]
    },
    {
      "cell_type": "code",
      "metadata": {
        "colab": {
          "base_uri": "https://localhost:8080/"
        },
        "id": "DexQB8u666_r",
        "outputId": "3d105cd0-58dd-4adb-da61-f4c3a97aafd9"
      },
      "source": [
        " # Monitoria \r\n",
        " data = np.array([[1, 2], [3, 4], [5, 6]])\r\n",
        " type(data)"
      ],
      "execution_count": 1353,
      "outputs": [
        {
          "output_type": "execute_result",
          "data": {
            "text/plain": [
              "numpy.ndarray"
            ]
          },
          "metadata": {
            "tags": []
          },
          "execution_count": 1353
        }
      ]
    },
    {
      "cell_type": "code",
      "metadata": {
        "colab": {
          "base_uri": "https://localhost:8080/"
        },
        "id": "KuQsPuu16-rQ",
        "outputId": "840a49ed-acbb-461a-e6c1-e24ac156f039"
      },
      "source": [
        "# Monitoria\r\n",
        "print(data)\r\n",
        "T1=np.transpose(data)\r\n",
        "T2=data.T\r\n",
        "print(T1)\r\n",
        "print(T2)"
      ],
      "execution_count": 1354,
      "outputs": [
        {
          "output_type": "stream",
          "text": [
            "[[1 2]\n",
            " [3 4]\n",
            " [5 6]]\n",
            "[[1 3 5]\n",
            " [2 4 6]]\n",
            "[[1 3 5]\n",
            " [2 4 6]]\n"
          ],
          "name": "stdout"
        }
      ]
    },
    {
      "cell_type": "code",
      "metadata": {
        "colab": {
          "base_uri": "https://localhost:8080/",
          "height": 37
        },
        "id": "HQUzSVA_7JCc",
        "outputId": "48764747-6047-4818-cff6-38b3207662e1"
      },
      "source": [
        "# Monitoria\r\n",
        "data.ndim\r\n",
        "data.shape\r\n",
        "data.size\r\n",
        "data.dtype\r\n",
        "data.nbytes"
      ],
      "execution_count": 1355,
      "outputs": [
        {
          "output_type": "execute_result",
          "data": {
            "text/latex": "$\\displaystyle 48$",
            "text/plain": [
              "48"
            ]
          },
          "metadata": {
            "tags": []
          },
          "execution_count": 1355
        }
      ]
    },
    {
      "cell_type": "code",
      "metadata": {
        "colab": {
          "base_uri": "https://localhost:8080/"
        },
        "id": "VqM5n-Fy7hOg",
        "outputId": "03093144-6924-4626-e5b3-572c3b1a54e3"
      },
      "source": [
        "# Monitoria\r\n",
        "a1 =np.array([[1],[2],[0]]) \r\n",
        "a2 =np.array([[0],[5],[6]]) \r\n",
        "a3 = 2*a1 + a2\r\n",
        "a3"
      ],
      "execution_count": 1356,
      "outputs": [
        {
          "output_type": "execute_result",
          "data": {
            "text/plain": [
              "array([[2],\n",
              "       [9],\n",
              "       [6]])"
            ]
          },
          "metadata": {
            "tags": []
          },
          "execution_count": 1356
        }
      ]
    },
    {
      "cell_type": "markdown",
      "metadata": {
        "id": "yyU4_YL3NXr4"
      },
      "source": [
        "#### Representacion Grafica\r\n"
      ]
    },
    {
      "cell_type": "code",
      "metadata": {
        "colab": {
          "base_uri": "https://localhost:8080/",
          "height": 258
        },
        "id": "jKtC6kEIV2K-",
        "outputId": "ae77ae4f-9a6b-4e62-d2d9-3d6e2727d439"
      },
      "source": [
        "# graficando vector en R^2 [10, 15]\r\n",
        "def move_spines():\r\n",
        "    \"\"\"Crea la figura de pyplot y los ejes. Mueve las lineas de la izquierda \r\n",
        "    y de abajo para que se intersecten con el origen. Elimina las lineas de\r\n",
        "    la derecha y la de arriba. Devuelve los ejes.\"\"\"\r\n",
        "    fix, ax = plt.subplots()\r\n",
        "    for spine in [\"left\", \"bottom\"]:\r\n",
        "        ax.spines[spine].set_position(\"zero\")\r\n",
        "    \r\n",
        "    for spine in [\"right\", \"top\"]:\r\n",
        "        ax.spines[spine].set_color(\"none\")\r\n",
        "    \r\n",
        "    return ax\r\n",
        "\r\n",
        "def vect_fig(vector, color): \r\n",
        "    \"\"\"Genera el grafico de los vectores en el plano\"\"\"\r\n",
        "    v = vector\r\n",
        "    ax.annotate(\" \", xy=v, xytext=[0, 0], color=color,\r\n",
        "                arrowprops=dict(facecolor=color,\r\n",
        "                                shrink=0,\r\n",
        "                                alpha=0.7,\r\n",
        "                                width=0.5))\r\n",
        "    ax.text(1.1 * v[0], 1.1 * v[1], v)\r\n",
        "\r\n",
        "ax = move_spines()\r\n",
        "ax.set_xlim(-20, 20)\r\n",
        "ax.set_ylim(-20, 20)\r\n",
        "ax.grid()\r\n",
        "vect_fig([10, 15], \"green\")"
      ],
      "execution_count": 1357,
      "outputs": [
        {
          "output_type": "display_data",
          "data": {
            "image/png": "[encoded data removed]",
            "text/plain": [
              "<Figure size 432x288 with 1 Axes>"
            ]
          },
          "metadata": {
            "tags": [],
            "needs_background": "light"
          }
        }
      ]
    },
    {
      "cell_type": "code",
      "metadata": {
        "id": "77gj8WpVQFkq"
      },
      "source": [
        "# import matplotlib.pyplot as plt\r\n",
        "# from warnings import filterwarnings\r\n",
        "\r\n",
        "# %matplotlib inline\r\n",
        "# filterwarnings('ignore') # Ignorar warnings\r\n",
        "# def move_spines():\r\n",
        "#     \"\"\"Crea la figura de pyplot y los ejes. Mueve las lineas de la izquierda y de abajo\r\n",
        "#     para que se intersecten con el origen. Elimina las lineas de la derecha y la de arriba.\r\n",
        "#     Devuelve los ejes.\"\"\"\r\n",
        "#     fix, ax = plt.subplots()\r\n",
        "#     for spine in [\"left\", \"bottom\"]:\r\n",
        "#         ax.spines[spine].set_position(\"zero\")\r\n",
        "    \r\n",
        "#     for spine in [\"right\", \"top\"]:\r\n",
        "#         ax.spines[spine].set_color(\"none\")\r\n",
        "    \r\n",
        "#     return ax\r\n",
        "\r\n",
        "# def vect_fig(): \r\n",
        "#     \"\"\"Genera el grafico de los vectores en el plano\"\"\"\r\n",
        "#     ax = move_spines()\r\n",
        "    \r\n",
        "#     ax.set_xlim(-6, 6)\r\n",
        "#     ax.set_ylim(-6, 6)\r\n",
        "#     ax.grid()\r\n",
        "#     vecs = [[2, 4], [-3, 3], [-4, -3.5]] # lista de vectores\r\n",
        "#     for v in vecs:\r\n",
        "#         ax.annotate(\" \", xy=v, xytext=[0, 0],\r\n",
        "#                    arrowprops=dict(facecolor=\"blue\",\r\n",
        "#                                   shrink=0,\r\n",
        "#                                   alpha=0.7,\r\n",
        "#                                   width=0.5))\r\n",
        "#         ax.text(1.1 * v[0], 1.1 * v[1], v)\r\n",
        "        \r\n",
        "# vect_fig() "
      ],
      "execution_count": 1358,
      "outputs": []
    },
    {
      "cell_type": "code",
      "metadata": {
        "colab": {
          "base_uri": "https://localhost:8080/"
        },
        "id": "6F1HmCaJDqT0",
        "outputId": "a141e513-e493-44ae-d9bb-22511126cc08"
      },
      "source": [
        "# Angulo entre dos Vectores\r\n",
        "u = np.array([2, -2, 7])\r\n",
        "v = np.array([4, 1, -2])\r\n",
        "\r\n",
        "u,v\r\n"
      ],
      "execution_count": 1359,
      "outputs": [
        {
          "output_type": "execute_result",
          "data": {
            "text/plain": [
              "(array([ 2, -2,  7]), array([ 4,  1, -2]))"
            ]
          },
          "metadata": {
            "tags": []
          },
          "execution_count": 1359
        }
      ]
    },
    {
      "cell_type": "code",
      "metadata": {
        "colab": {
          "base_uri": "https://localhost:8080/"
        },
        "id": "Vcwc0d_tFNAQ",
        "outputId": "5e449481-737a-4e6d-930f-adf2c7e6896c"
      },
      "source": [
        "teta = np.arccos(np.dot(u, v)/(np.linalg.norm(u)*np.linalg.norm(v)))\r\n",
        "teta= np.degrees(teta)\r\n",
        "print (teta)"
      ],
      "execution_count": 1360,
      "outputs": [
        {
          "output_type": "stream",
          "text": [
            "103.3694580603733\n"
          ],
          "name": "stdout"
        }
      ]
    },
    {
      "cell_type": "markdown",
      "metadata": {
        "id": "QMi3W98bQb0s"
      },
      "source": [
        "#### Operaciones con Vectores\r\n",
        "\r\n"
      ]
    },
    {
      "cell_type": "code",
      "metadata": {
        "colab": {
          "base_uri": "https://localhost:8080/"
        },
        "id": "FbaEi803TPug",
        "outputId": "20fcf6ca-95dd-4118-bfbf-481d61360988"
      },
      "source": [
        "x=np.arange(1,6)\r\n",
        "y=np.array([2,5,7,9,11])\r\n",
        "x,y"
      ],
      "execution_count": 1361,
      "outputs": [
        {
          "output_type": "execute_result",
          "data": {
            "text/plain": [
              "(array([1, 2, 3, 4, 5]), array([ 2,  5,  7,  9, 11]))"
            ]
          },
          "metadata": {
            "tags": []
          },
          "execution_count": 1361
        }
      ]
    },
    {
      "cell_type": "code",
      "metadata": {
        "colab": {
          "base_uri": "https://localhost:8080/"
        },
        "id": "sc47pdnGVPAy",
        "outputId": "47a705a8-7d5f-48e7-cc8e-0b388fc6598b"
      },
      "source": [
        "x+y"
      ],
      "execution_count": 1362,
      "outputs": [
        {
          "output_type": "execute_result",
          "data": {
            "text/plain": [
              "array([ 3,  7, 10, 13, 16])"
            ]
          },
          "metadata": {
            "tags": []
          },
          "execution_count": 1362
        }
      ]
    },
    {
      "cell_type": "code",
      "metadata": {
        "colab": {
          "base_uri": "https://localhost:8080/",
          "height": 302
        },
        "id": "df74k4ST1YIU",
        "outputId": "5b0efb3f-1ee1-4940-d4cb-79363ea25ecf"
      },
      "source": [
        "# graficando suma de vectores en R^2\r\n",
        "# [2, 4] + [2, -2]\r\n",
        "\r\n",
        "ax = move_spines()\r\n",
        "ax.set_xlim(-5, 5)\r\n",
        "ax.set_ylim(-5, 5)\r\n",
        "ax.grid()\r\n",
        "vecs = [[2, 4], [2, -2]] # lista de vectores\r\n",
        "for v in vecs:\r\n",
        "    vect_fig(v, \"blue\")\r\n",
        "\r\n",
        "v = np.array([2, 4]) + np.array([2, -2])\r\n",
        "vect_fig(v, \"green\")\r\n",
        "\r\n",
        "ax.plot([2, 4], [-2, 2], linestyle='--')\r\n",
        "a =ax.plot([2, 4], [4, 2], linestyle='--' )"
      ],
      "execution_count": 1363,
      "outputs": [
        {
          "output_type": "stream",
          "text": [
            "/usr/local/lib/python3.7/dist-packages/matplotlib/text.py:1165: FutureWarning: elementwise comparison failed; returning scalar instead, but in the future will perform elementwise comparison\n",
            "  if s != self._text:\n"
          ],
          "name": "stderr"
        },
        {
          "output_type": "display_data",
          "data": {
            "image/png": "[encoded data removed]",
            "text/plain": [
              "<Figure size 432x288 with 1 Axes>"
            ]
          },
          "metadata": {
            "tags": [],
            "needs_background": "light"
          }
        }
      ]
    },
    {
      "cell_type": "code",
      "metadata": {
        "id": "eELeM0drVS1Z",
        "colab": {
          "base_uri": "https://localhost:8080/"
        },
        "outputId": "f5ec5078-ab5a-42d4-883d-f4dbca8b1152"
      },
      "source": [
        "x-y"
      ],
      "execution_count": 1364,
      "outputs": [
        {
          "output_type": "execute_result",
          "data": {
            "text/plain": [
              "array([-1, -3, -4, -5, -6])"
            ]
          },
          "metadata": {
            "tags": []
          },
          "execution_count": 1364
        }
      ]
    },
    {
      "cell_type": "code",
      "metadata": {
        "id": "HbfGl4YDVWxN",
        "colab": {
          "base_uri": "https://localhost:8080/"
        },
        "outputId": "d2b926f8-bdac-4c33-cd73-21f06b757a5c"
      },
      "source": [
        "x*5"
      ],
      "execution_count": 1365,
      "outputs": [
        {
          "output_type": "execute_result",
          "data": {
            "text/plain": [
              "array([ 5, 10, 15, 20, 25])"
            ]
          },
          "metadata": {
            "tags": []
          },
          "execution_count": 1365
        }
      ]
    },
    {
      "cell_type": "code",
      "metadata": {
        "id": "4_dCKMvlVbTR",
        "colab": {
          "base_uri": "https://localhost:8080/"
        },
        "outputId": "3e6f13dc-b23f-40da-ba80-f67dd726135b"
      },
      "source": [
        "y*8"
      ],
      "execution_count": 1366,
      "outputs": [
        {
          "output_type": "execute_result",
          "data": {
            "text/plain": [
              "array([16, 40, 56, 72, 88])"
            ]
          },
          "metadata": {
            "tags": []
          },
          "execution_count": 1366
        }
      ]
    },
    {
      "cell_type": "code",
      "metadata": {
        "id": "YMZwHVBGVU5B",
        "colab": {
          "base_uri": "https://localhost:8080/"
        },
        "outputId": "9f78c82f-6f89-40de-fd87-8af1c1ff2df5"
      },
      "source": [
        "x**2"
      ],
      "execution_count": 1367,
      "outputs": [
        {
          "output_type": "execute_result",
          "data": {
            "text/plain": [
              "array([ 1,  4,  9, 16, 25])"
            ]
          },
          "metadata": {
            "tags": []
          },
          "execution_count": 1367
        }
      ]
    },
    {
      "cell_type": "code",
      "metadata": {
        "id": "mhILHES4Vmx6",
        "colab": {
          "base_uri": "https://localhost:8080/"
        },
        "outputId": "9cc4246c-a12c-40a8-cfb3-89dfb3d76975"
      },
      "source": [
        "(x+y)**3"
      ],
      "execution_count": 1368,
      "outputs": [
        {
          "output_type": "execute_result",
          "data": {
            "text/plain": [
              "array([  27,  343, 1000, 2197, 4096])"
            ]
          },
          "metadata": {
            "tags": []
          },
          "execution_count": 1368
        }
      ]
    },
    {
      "cell_type": "markdown",
      "metadata": {
        "id": "UrXcP7a7Wjkz"
      },
      "source": [
        "Producto interno o escalar"
      ]
    },
    {
      "cell_type": "code",
      "metadata": {
        "colab": {
          "base_uri": "https://localhost:8080/"
        },
        "id": "FESOdZMBCls3",
        "outputId": "fea5290f-e008-49b4-edfd-afe7f332b546"
      },
      "source": [
        "a=np.array([1,5,7])\r\n",
        "b=np.array([3,4,1])\r\n",
        "np.inner(a, b) "
      ],
      "execution_count": 1369,
      "outputs": [
        {
          "output_type": "execute_result",
          "data": {
            "text/plain": [
              "30"
            ]
          },
          "metadata": {
            "tags": []
          },
          "execution_count": 1369
        }
      ]
    },
    {
      "cell_type": "code",
      "metadata": {
        "id": "pm_oG8zYXrM3",
        "colab": {
          "base_uri": "https://localhost:8080/"
        },
        "outputId": "5e4f5087-f540-4b33-c84e-5daadd2c9a04"
      },
      "source": [
        "x @ y "
      ],
      "execution_count": 1370,
      "outputs": [
        {
          "output_type": "execute_result",
          "data": {
            "text/plain": [
              "124"
            ]
          },
          "metadata": {
            "tags": []
          },
          "execution_count": 1370
        }
      ]
    },
    {
      "cell_type": "code",
      "metadata": {
        "id": "obX4zXm8X3An",
        "colab": {
          "base_uri": "https://localhost:8080/"
        },
        "outputId": "17d0b938-c2b4-4c4f-c369-ec64bdd2548f"
      },
      "source": [
        "sum(x * y), np.dot(x, y)"
      ],
      "execution_count": 1371,
      "outputs": [
        {
          "output_type": "execute_result",
          "data": {
            "text/plain": [
              "(124, 124)"
            ]
          },
          "metadata": {
            "tags": []
          },
          "execution_count": 1371
        }
      ]
    },
    {
      "cell_type": "code",
      "metadata": {
        "colab": {
          "base_uri": "https://localhost:8080/",
          "height": 314
        },
        "id": "kSU4Brrn5rXP",
        "outputId": "f3d2c490-a407-4b44-bebe-549a554763b3"
      },
      "source": [
        "# Graficando multiplicación por escalares / R^2\r\n",
        "\r\n",
        "\r\n",
        "ax = move_spines()\r\n",
        "ax.set_xlim(-10, 10)\r\n",
        "ax.set_ylim(-10, 10)\r\n",
        "ax.grid()\r\n",
        "\r\n",
        "v = np.array([2.5, 3])\r\n",
        "vect_fig(v, \"blue\")\r\n",
        "\r\n",
        "v = v * 3\r\n",
        "vect_fig(v, \"red\")"
      ],
      "execution_count": 1372,
      "outputs": [
        {
          "output_type": "stream",
          "text": [
            "/usr/local/lib/python3.7/dist-packages/matplotlib/text.py:1165: FutureWarning: elementwise comparison failed; returning scalar instead, but in the future will perform elementwise comparison\n",
            "  if s != self._text:\n"
          ],
          "name": "stderr"
        },
        {
          "output_type": "display_data",
          "data": {
            "image/png": "[encoded data removed]",
            "text/plain": [
              "<Figure size 432x288 with 1 Axes>"
            ]
          },
          "metadata": {
            "tags": [],
            "needs_background": "light"
          }
        }
      ]
    },
    {
      "cell_type": "code",
      "metadata": {
        "id": "b5sh5a8mYIyn",
        "colab": {
          "base_uri": "https://localhost:8080/",
          "height": 37
        },
        "outputId": "7af4c408-5091-4b78-cb42-1b543cac9ea8"
      },
      "source": [
        "# Calculo de la norma del Vector 'x'\r\n",
        "np.linalg.norm(x)\r\n"
      ],
      "execution_count": 1373,
      "outputs": [
        {
          "output_type": "execute_result",
          "data": {
            "text/latex": "$\\displaystyle 7.41619848709566$",
            "text/plain": [
              "7.416198487095663"
            ]
          },
          "metadata": {
            "tags": []
          },
          "execution_count": 1373
        }
      ]
    },
    {
      "cell_type": "code",
      "metadata": {
        "id": "Qhg1ub6HZK8S",
        "colab": {
          "base_uri": "https://localhost:8080/",
          "height": 37
        },
        "outputId": "9a9454fc-65a7-4770-d6fc-f225bace6eed"
      },
      "source": [
        "# Calculo de la norma del Vector 'x'\r\n",
        "np.sqrt(x @ x)"
      ],
      "execution_count": 1374,
      "outputs": [
        {
          "output_type": "execute_result",
          "data": {
            "text/latex": "$\\displaystyle 7.41619848709566$",
            "text/plain": [
              "7.416198487095663"
            ]
          },
          "metadata": {
            "tags": []
          },
          "execution_count": 1374
        }
      ]
    },
    {
      "cell_type": "code",
      "metadata": {
        "id": "fGqEBw9y32HQ",
        "colab": {
          "base_uri": "https://localhost:8080/",
          "height": 312
        },
        "outputId": "0fa7aa46-1ad4-4b9b-9574-0ae30c9dd36c"
      },
      "source": [
        "# Calculando largo de un vector o norma\r\n",
        "# forma un triángulo rectángulo\r\n",
        "\r\n",
        "ax = move_spines()\r\n",
        "ax.set_xlim(-6, 6)\r\n",
        "ax.set_ylim(-6, 6)\r\n",
        "ax.grid()\r\n",
        "v = np.array([2, 5])\r\n",
        "\r\n",
        "vect_fig(v, \"red\")\r\n",
        "\r\n",
        "a = ax.vlines(x=v[0], ymin=0, ymax = 6, linestyle='--', color='b')"
      ],
      "execution_count": 1375,
      "outputs": [
        {
          "output_type": "stream",
          "text": [
            "/usr/local/lib/python3.7/dist-packages/matplotlib/text.py:1165: FutureWarning: elementwise comparison failed; returning scalar instead, but in the future will perform elementwise comparison\n",
            "  if s != self._text:\n"
          ],
          "name": "stderr"
        },
        {
          "output_type": "display_data",
          "data": {
            "image/png": "[encoded data removed]",
            "text/plain": [
              "<Figure size 432x288 with 1 Axes>"
            ]
          },
          "metadata": {
            "tags": [],
            "needs_background": "light"
          }
        }
      ]
    },
    {
      "cell_type": "code",
      "metadata": {
        "id": "a1rGtD9TZlZ4",
        "colab": {
          "base_uri": "https://localhost:8080/"
        },
        "outputId": "022a19e9-ca98-4770-d5dd-ade626607306"
      },
      "source": [
        "# Vectores Ortogonales\r\n",
        "v1 = np.array([2,5])\r\n",
        "v2 = np.array([5,-2])\r\n",
        "v1 @ v2"
      ],
      "execution_count": 1376,
      "outputs": [
        {
          "output_type": "execute_result",
          "data": {
            "text/plain": [
              "0"
            ]
          },
          "metadata": {
            "tags": []
          },
          "execution_count": 1376
        }
      ]
    },
    {
      "cell_type": "code",
      "metadata": {
        "id": "cmsE-LDH285M",
        "colab": {
          "base_uri": "https://localhost:8080/"
        },
        "outputId": "2be4460f-1f45-4a7d-e63b-916aa4ff36dd"
      },
      "source": [
        "v1 = np.array([2,5])\r\n",
        "v2 = np.array([5,-2])\r\n",
        "v.dot(v2)\r\n"
      ],
      "execution_count": 1377,
      "outputs": [
        {
          "output_type": "execute_result",
          "data": {
            "text/plain": [
              "0"
            ]
          },
          "metadata": {
            "tags": []
          },
          "execution_count": 1377
        }
      ]
    },
    {
      "cell_type": "code",
      "metadata": {
        "id": "dVwxg8DA14GA",
        "colab": {
          "base_uri": "https://localhost:8080/",
          "height": 312
        },
        "outputId": "c8b3b946-e6ad-4db9-90ae-54eed321b7a0"
      },
      "source": [
        "# Vectores ortogonales - Grafico\r\n",
        "\r\n",
        "ax = move_spines()\r\n",
        "ax.set_xlim(-6, 6)\r\n",
        "ax.set_ylim(-6, 6)\r\n",
        "ax.grid()\r\n",
        "vecs = [np.array([2, 5]), np.array([5, -2])]\r\n",
        "\r\n",
        "for v in vecs:\r\n",
        "    vect_fig(v, \"red\")\r\n",
        "\r\n",
        "a = ax.plot([5, 2], [-2, 5], linestyle='--', color='g')"
      ],
      "execution_count": 1378,
      "outputs": [
        {
          "output_type": "stream",
          "text": [
            "/usr/local/lib/python3.7/dist-packages/matplotlib/text.py:1165: FutureWarning: elementwise comparison failed; returning scalar instead, but in the future will perform elementwise comparison\n",
            "  if s != self._text:\n"
          ],
          "name": "stderr"
        },
        {
          "output_type": "display_data",
          "data": {
            "image/png": "[encoded data removed]",
            "text/plain": [
              "<Figure size 432x288 with 1 Axes>"
            ]
          },
          "metadata": {
            "tags": [],
            "needs_background": "light"
          }
        }
      ]
    },
    {
      "cell_type": "markdown",
      "metadata": {
        "id": "Sl8HRKAgMA8s"
      },
      "source": [
        "Producto Cruz entre dos vectores"
      ]
    },
    {
      "cell_type": "code",
      "metadata": {
        "id": "i8d_Y7K9L-12",
        "colab": {
          "base_uri": "https://localhost:8080/"
        },
        "outputId": "55f3a0dd-826e-4743-f9a2-0e958ee9d157"
      },
      "source": [
        "a =np.array([2,5,-8])\r\n",
        "b =np.array([5,-4,2])\r\n",
        "C =np.cross(a,b)\r\n",
        "print(C)\r\n",
        "\r\n"
      ],
      "execution_count": 1379,
      "outputs": [
        {
          "output_type": "stream",
          "text": [
            "[-22 -44 -33]\n"
          ],
          "name": "stdout"
        }
      ]
    },
    {
      "cell_type": "markdown",
      "metadata": {
        "id": "X_5rAwXsaRvK"
      },
      "source": [
        "## Matrices"
      ]
    },
    {
      "cell_type": "markdown",
      "metadata": {
        "id": "NfLxoLB0HYhP"
      },
      "source": [
        "### Suma, resta, multiplicacion, espacio nulo"
      ]
    },
    {
      "cell_type": "code",
      "metadata": {
        "id": "59cMWBG5aXbX",
        "colab": {
          "base_uri": "https://localhost:8080/"
        },
        "outputId": "8347368c-756c-41c8-e345-7ddc93072de6"
      },
      "source": [
        "A=np.array([[1,2,5],[2,1,4],[1,0,0]])\r\n",
        "\r\n",
        "B=np.array([[2,2,1],[1,2,0],[4,0,2]])\r\n",
        "\r\n",
        "A,B"
      ],
      "execution_count": 1380,
      "outputs": [
        {
          "output_type": "execute_result",
          "data": {
            "text/plain": [
              "(array([[1, 2, 5],\n",
              "        [2, 1, 4],\n",
              "        [1, 0, 0]]), array([[2, 2, 1],\n",
              "        [1, 2, 0],\n",
              "        [4, 0, 2]]))"
            ]
          },
          "metadata": {
            "tags": []
          },
          "execution_count": 1380
        }
      ]
    },
    {
      "cell_type": "code",
      "metadata": {
        "id": "w9H7WKLXcXMz",
        "colab": {
          "base_uri": "https://localhost:8080/"
        },
        "outputId": "41cda7b9-60b4-4d4a-c961-838dfd8ebea0"
      },
      "source": [
        "A + B"
      ],
      "execution_count": 1381,
      "outputs": [
        {
          "output_type": "execute_result",
          "data": {
            "text/plain": [
              "array([[3, 4, 6],\n",
              "       [3, 3, 4],\n",
              "       [5, 0, 2]])"
            ]
          },
          "metadata": {
            "tags": []
          },
          "execution_count": 1381
        }
      ]
    },
    {
      "cell_type": "code",
      "metadata": {
        "id": "MT40LCsvc4uT",
        "colab": {
          "base_uri": "https://localhost:8080/"
        },
        "outputId": "02c9c08b-4098-434f-b912-319d6b9e3c88"
      },
      "source": [
        "A - B"
      ],
      "execution_count": 1382,
      "outputs": [
        {
          "output_type": "execute_result",
          "data": {
            "text/plain": [
              "array([[-1,  0,  4],\n",
              "       [ 1, -1,  4],\n",
              "       [-3,  0, -2]])"
            ]
          },
          "metadata": {
            "tags": []
          },
          "execution_count": 1382
        }
      ]
    },
    {
      "cell_type": "code",
      "metadata": {
        "id": "VAEvsFD_dMYl",
        "colab": {
          "base_uri": "https://localhost:8080/"
        },
        "outputId": "27a2679a-fb9f-42af-9d7b-317264913a8e"
      },
      "source": [
        "A * 3"
      ],
      "execution_count": 1383,
      "outputs": [
        {
          "output_type": "execute_result",
          "data": {
            "text/plain": [
              "array([[ 3,  6, 15],\n",
              "       [ 6,  3, 12],\n",
              "       [ 3,  0,  0]])"
            ]
          },
          "metadata": {
            "tags": []
          },
          "execution_count": 1383
        }
      ]
    },
    {
      "cell_type": "code",
      "metadata": {
        "id": "TEVCOi0bdRm5",
        "colab": {
          "base_uri": "https://localhost:8080/"
        },
        "outputId": "8dd2a3e9-45b5-4ee0-de18-94ecb5a8e2e8"
      },
      "source": [
        "B * 4"
      ],
      "execution_count": 1384,
      "outputs": [
        {
          "output_type": "execute_result",
          "data": {
            "text/plain": [
              "array([[ 8,  8,  4],\n",
              "       [ 4,  8,  0],\n",
              "       [16,  0,  8]])"
            ]
          },
          "metadata": {
            "tags": []
          },
          "execution_count": 1384
        }
      ]
    },
    {
      "cell_type": "code",
      "metadata": {
        "id": "HfdkLnnYd6g1",
        "colab": {
          "base_uri": "https://localhost:8080/",
          "height": 37
        },
        "outputId": "dca7ff62-4fdc-47a9-db97-59bcabe69a39"
      },
      "source": [
        "# Dimension de una matriz\r\n",
        "A.shape"
      ],
      "execution_count": 1385,
      "outputs": [
        {
          "output_type": "execute_result",
          "data": {
            "text/latex": "$\\displaystyle \\left( 3, \\  3\\right)$",
            "text/plain": [
              "(3, 3)"
            ]
          },
          "metadata": {
            "tags": []
          },
          "execution_count": 1385
        }
      ]
    },
    {
      "cell_type": "code",
      "metadata": {
        "id": "Cv-67A6SeCDy",
        "colab": {
          "base_uri": "https://localhost:8080/",
          "height": 37
        },
        "outputId": "eb499862-544d-489c-e534-15e181c8241c"
      },
      "source": [
        "# Numero de elementos de una matriz\r\n",
        "A.size"
      ],
      "execution_count": 1386,
      "outputs": [
        {
          "output_type": "execute_result",
          "data": {
            "text/latex": "$\\displaystyle 9$",
            "text/plain": [
              "9"
            ]
          },
          "metadata": {
            "tags": []
          },
          "execution_count": 1386
        }
      ]
    },
    {
      "cell_type": "code",
      "metadata": {
        "id": "3tKsP5LYCRcP",
        "colab": {
          "base_uri": "https://localhost:8080/"
        },
        "outputId": "723895fd-8450-4ff1-f3b8-2fd5f45c29d7"
      },
      "source": [
        "# Traza\r\n",
        "np.trace(A)"
      ],
      "execution_count": 1387,
      "outputs": [
        {
          "output_type": "execute_result",
          "data": {
            "text/plain": [
              "2"
            ]
          },
          "metadata": {
            "tags": []
          },
          "execution_count": 1387
        }
      ]
    },
    {
      "cell_type": "code",
      "metadata": {
        "id": "alBTL7SbH8dv",
        "colab": {
          "base_uri": "https://localhost:8080/"
        },
        "outputId": "7ffeffae-7659-4311-d961-2dd1f1ad801d"
      },
      "source": [
        "# Maximo de la matriz\r\n",
        "np.max(A)"
      ],
      "execution_count": 1388,
      "outputs": [
        {
          "output_type": "execute_result",
          "data": {
            "text/plain": [
              "5"
            ]
          },
          "metadata": {
            "tags": []
          },
          "execution_count": 1388
        }
      ]
    },
    {
      "cell_type": "code",
      "metadata": {
        "id": "OUBbhzxQKAwM",
        "colab": {
          "base_uri": "https://localhost:8080/"
        },
        "outputId": "5a0913ad-d2c9-422c-9582-92bbca6843d7"
      },
      "source": [
        "# Minimo de la matriz\r\n",
        "np.min(B)"
      ],
      "execution_count": 1389,
      "outputs": [
        {
          "output_type": "execute_result",
          "data": {
            "text/plain": [
              "0"
            ]
          },
          "metadata": {
            "tags": []
          },
          "execution_count": 1389
        }
      ]
    },
    {
      "cell_type": "code",
      "metadata": {
        "id": "5onovhNZSYyF",
        "colab": {
          "base_uri": "https://localhost:8080/",
          "height": 58
        },
        "outputId": "97dd8dac-721f-487d-a310-5e46f79e77e2"
      },
      "source": [
        "# Espacio nulo de una matriz \r\n",
        "# Herramienta SymPy\r\n",
        "A=sympy.Matrix(((1,2,5),(2,1,4)))\r\n",
        "A"
      ],
      "execution_count": 1390,
      "outputs": [
        {
          "output_type": "execute_result",
          "data": {
            "text/latex": "$\\displaystyle \\left[\\begin{matrix}1 & 2 & 5\\\\2 & 1 & 4\\end{matrix}\\right]$",
            "text/plain": [
              "⎡1  2  5⎤\n",
              "⎢       ⎥\n",
              "⎣2  1  4⎦"
            ]
          },
          "metadata": {
            "tags": []
          },
          "execution_count": 1390
        }
      ]
    },
    {
      "cell_type": "code",
      "metadata": {
        "id": "McqC33gcQdM_"
      },
      "source": [
        ""
      ],
      "execution_count": 1390,
      "outputs": []
    },
    {
      "cell_type": "code",
      "metadata": {
        "id": "BBLqf1mE8axh",
        "colab": {
          "base_uri": "https://localhost:8080/",
          "height": 78
        },
        "outputId": "fd9b4b87-e348-4be5-d2bb-9b2537e9901b"
      },
      "source": [
        "x=A.nullspace(A)\r\n",
        "x"
      ],
      "execution_count": 1391,
      "outputs": [
        {
          "output_type": "execute_result",
          "data": {
            "text/latex": "$\\displaystyle \\left[ \\left[\\begin{matrix}-1\\\\-2\\\\1\\end{matrix}\\right]\\right]$",
            "text/plain": [
              "⎡⎡-1⎤⎤\n",
              "⎢⎢  ⎥⎥\n",
              "⎢⎢-2⎥⎥\n",
              "⎢⎢  ⎥⎥\n",
              "⎣⎣1 ⎦⎦"
            ]
          },
          "metadata": {
            "tags": []
          },
          "execution_count": 1391
        }
      ]
    },
    {
      "cell_type": "code",
      "metadata": {
        "id": "-JW903Cm_MoG",
        "colab": {
          "base_uri": "https://localhost:8080/",
          "height": 78
        },
        "outputId": "c6fd929e-de49-4f98-9a16-aa2a0cfca93b"
      },
      "source": [
        "# Monitoria\r\n",
        "A = sp.Matrix([[4,-2,0], [2, 1, -1], [2, -3, 1]])\r\n",
        "Anull=A.nullspace() \r\n",
        "Anull"
      ],
      "execution_count": 1392,
      "outputs": [
        {
          "output_type": "execute_result",
          "data": {
            "text/latex": "$\\displaystyle \\left[ \\left[\\begin{matrix}\\frac{1}{4}\\\\\\frac{1}{2}\\\\1\\end{matrix}\\right]\\right]$",
            "text/plain": [
              "⎡⎡1/4⎤⎤\n",
              "⎢⎢   ⎥⎥\n",
              "⎢⎢1/2⎥⎥\n",
              "⎢⎢   ⎥⎥\n",
              "⎣⎣ 1 ⎦⎦"
            ]
          },
          "metadata": {
            "tags": []
          },
          "execution_count": 1392
        }
      ]
    },
    {
      "cell_type": "code",
      "metadata": {
        "id": "pTgWP-Uj9ASZ",
        "colab": {
          "base_uri": "https://localhost:8080/"
        },
        "outputId": "65ee894b-e8f7-41cc-dbe3-08ffbc57be68"
      },
      "source": [
        "# Por herramienta Numpy\r\n",
        "A=np.array([[1,2,5],[2,1,4]])\r\n",
        "x=np.array([[-1],[-2],[1]])\r\n",
        "A.dot(x)\r\n",
        "\r\n"
      ],
      "execution_count": 1393,
      "outputs": [
        {
          "output_type": "execute_result",
          "data": {
            "text/plain": [
              "array([[0],\n",
              "       [0]])"
            ]
          },
          "metadata": {
            "tags": []
          },
          "execution_count": 1393
        }
      ]
    },
    {
      "cell_type": "markdown",
      "metadata": {
        "id": "hAZ7u7kre-YP"
      },
      "source": [
        "Producto de matrices"
      ]
    },
    {
      "cell_type": "code",
      "metadata": {
        "id": "rNaq3SdMfEA8",
        "colab": {
          "base_uri": "https://localhost:8080/"
        },
        "outputId": "8978e9d1-408f-4f30-fc37-4a1d45d293bd"
      },
      "source": [
        "A=np.array([[1,3,5,2],[2,1,6,4],[1,8,0,0]]).reshape(3,4)\r\n",
        "A\r\n"
      ],
      "execution_count": 1394,
      "outputs": [
        {
          "output_type": "execute_result",
          "data": {
            "text/plain": [
              "array([[1, 3, 5, 2],\n",
              "       [2, 1, 6, 4],\n",
              "       [1, 8, 0, 0]])"
            ]
          },
          "metadata": {
            "tags": []
          },
          "execution_count": 1394
        }
      ]
    },
    {
      "cell_type": "code",
      "metadata": {
        "id": "wjPYhqpXkLqi",
        "colab": {
          "base_uri": "https://localhost:8080/"
        },
        "outputId": "a5d7adde-7efb-456a-8f08-dcd132e37c3d"
      },
      "source": [
        "B=np.arange(12).reshape(4,3)\r\n",
        "B"
      ],
      "execution_count": 1395,
      "outputs": [
        {
          "output_type": "execute_result",
          "data": {
            "text/plain": [
              "array([[ 0,  1,  2],\n",
              "       [ 3,  4,  5],\n",
              "       [ 6,  7,  8],\n",
              "       [ 9, 10, 11]])"
            ]
          },
          "metadata": {
            "tags": []
          },
          "execution_count": 1395
        }
      ]
    },
    {
      "cell_type": "code",
      "metadata": {
        "id": "KZ0ml4L1kVJK",
        "colab": {
          "base_uri": "https://localhost:8080/"
        },
        "outputId": "fc18eefc-d742-4b99-94bf-f795f2ece6a1"
      },
      "source": [
        "A @ B"
      ],
      "execution_count": 1396,
      "outputs": [
        {
          "output_type": "execute_result",
          "data": {
            "text/plain": [
              "array([[ 57,  68,  79],\n",
              "       [ 75,  88, 101],\n",
              "       [ 24,  33,  42]])"
            ]
          },
          "metadata": {
            "tags": []
          },
          "execution_count": 1396
        }
      ]
    },
    {
      "cell_type": "code",
      "metadata": {
        "id": "uxGVHAvhkcQC",
        "colab": {
          "base_uri": "https://localhost:8080/"
        },
        "outputId": "935f4e0c-6f5b-414c-f453-7807d0173ea4"
      },
      "source": [
        "B @ A"
      ],
      "execution_count": 1397,
      "outputs": [
        {
          "output_type": "execute_result",
          "data": {
            "text/plain": [
              "array([[  4,  17,   6,   4],\n",
              "       [ 16,  53,  39,  22],\n",
              "       [ 28,  89,  72,  40],\n",
              "       [ 40, 125, 105,  58]])"
            ]
          },
          "metadata": {
            "tags": []
          },
          "execution_count": 1397
        }
      ]
    },
    {
      "cell_type": "markdown",
      "metadata": {
        "id": "AjBMTdyLkoiz"
      },
      "source": [
        "###Matriz Identidad"
      ]
    },
    {
      "cell_type": "code",
      "metadata": {
        "id": "13bmrwWYm96a",
        "colab": {
          "base_uri": "https://localhost:8080/"
        },
        "outputId": "1ecfd88a-54d1-41c0-f814-767e973936b7"
      },
      "source": [
        "I = np.eye(3)\r\n",
        "I"
      ],
      "execution_count": 1398,
      "outputs": [
        {
          "output_type": "execute_result",
          "data": {
            "text/plain": [
              "array([[1., 0., 0.],\n",
              "       [0., 1., 0.],\n",
              "       [0., 0., 1.]])"
            ]
          },
          "metadata": {
            "tags": []
          },
          "execution_count": 1398
        }
      ]
    },
    {
      "cell_type": "code",
      "metadata": {
        "id": "o5hlsyhinje8",
        "colab": {
          "base_uri": "https://localhost:8080/"
        },
        "outputId": "c0a37aac-40d3-4de4-df43-1a60e202c2a5"
      },
      "source": [
        "A=np.array([[1,2,5],[2,1,4],[1,0,0]])\r\n",
        "A"
      ],
      "execution_count": 1399,
      "outputs": [
        {
          "output_type": "execute_result",
          "data": {
            "text/plain": [
              "array([[1, 2, 5],\n",
              "       [2, 1, 4],\n",
              "       [1, 0, 0]])"
            ]
          },
          "metadata": {
            "tags": []
          },
          "execution_count": 1399
        }
      ]
    },
    {
      "cell_type": "code",
      "metadata": {
        "id": "T1dhfePHnHeg",
        "colab": {
          "base_uri": "https://localhost:8080/"
        },
        "outputId": "e5a8d1e5-95e2-4af1-ac9f-df6748752cdc"
      },
      "source": [
        "# Producto de Matriz por la identidad\r\n",
        "A @ I \r\n"
      ],
      "execution_count": 1400,
      "outputs": [
        {
          "output_type": "execute_result",
          "data": {
            "text/plain": [
              "array([[1., 2., 5.],\n",
              "       [2., 1., 4.],\n",
              "       [1., 0., 0.]])"
            ]
          },
          "metadata": {
            "tags": []
          },
          "execution_count": 1400
        }
      ]
    },
    {
      "cell_type": "markdown",
      "metadata": {
        "id": "-wzWCLZUoJoO"
      },
      "source": [
        "### Matriz Inversa\r\n"
      ]
    },
    {
      "cell_type": "code",
      "metadata": {
        "id": "gnrxy9MLB__2",
        "colab": {
          "base_uri": "https://localhost:8080/"
        },
        "outputId": "09229be0-7f4f-45fe-90a5-7025311f6299"
      },
      "source": [
        "# Monitoria\r\n",
        "A = np.matrix([[5,4,3],[0,-1,7],[0,0,2]])\r\n",
        "A.I"
      ],
      "execution_count": 1401,
      "outputs": [
        {
          "output_type": "execute_result",
          "data": {
            "text/plain": [
              "matrix([[ 0.2,  0.8, -3.1],\n",
              "        [ 0. , -1. ,  3.5],\n",
              "        [ 0. ,  0. ,  0.5]])"
            ]
          },
          "metadata": {
            "tags": []
          },
          "execution_count": 1401
        }
      ]
    },
    {
      "cell_type": "code",
      "metadata": {
        "id": "JN_XPuKRCG8U",
        "colab": {
          "base_uri": "https://localhost:8080/"
        },
        "outputId": "821ce22d-ea06-4106-ac7e-a95d5584b50c"
      },
      "source": [
        "# Monitoria\r\n",
        "A = np.array([[5,4,3],[0,-1,7],[0,0,2]])\r\n",
        "np.linalg.inv(A)"
      ],
      "execution_count": 1402,
      "outputs": [
        {
          "output_type": "execute_result",
          "data": {
            "text/plain": [
              "array([[ 0.2,  0.8, -3.1],\n",
              "       [-0. , -1. ,  3.5],\n",
              "       [ 0. ,  0. ,  0.5]])"
            ]
          },
          "metadata": {
            "tags": []
          },
          "execution_count": 1402
        }
      ]
    },
    {
      "cell_type": "code",
      "metadata": {
        "id": "hFVh9MkjoNel",
        "colab": {
          "base_uri": "https://localhost:8080/"
        },
        "outputId": "3ec4a735-a8ac-4651-b81f-e078f3d11701"
      },
      "source": [
        "A_inv=np.linalg.inv(A)\r\n",
        "A_inv"
      ],
      "execution_count": 1403,
      "outputs": [
        {
          "output_type": "execute_result",
          "data": {
            "text/plain": [
              "array([[ 0.2,  0.8, -3.1],\n",
              "       [-0. , -1. ,  3.5],\n",
              "       [ 0. ,  0. ,  0.5]])"
            ]
          },
          "metadata": {
            "tags": []
          },
          "execution_count": 1403
        }
      ]
    },
    {
      "cell_type": "code",
      "metadata": {
        "id": "yvRh2iLhocH8",
        "colab": {
          "base_uri": "https://localhost:8080/"
        },
        "outputId": "086d9058-66c0-4ab3-ba56-1cd6460bcb7a"
      },
      "source": [
        "# A x A_inv = I\r\n",
        "A @ A_inv"
      ],
      "execution_count": 1404,
      "outputs": [
        {
          "output_type": "execute_result",
          "data": {
            "text/plain": [
              "array([[1., 0., 0.],\n",
              "       [0., 1., 0.],\n",
              "       [0., 0., 1.]])"
            ]
          },
          "metadata": {
            "tags": []
          },
          "execution_count": 1404
        }
      ]
    },
    {
      "cell_type": "markdown",
      "metadata": {
        "id": "j_nm62ZUpZtQ"
      },
      "source": [
        "### Matriz transpuesta\r\n"
      ]
    },
    {
      "cell_type": "code",
      "metadata": {
        "id": "MstVi90Mpdb6",
        "colab": {
          "base_uri": "https://localhost:8080/"
        },
        "outputId": "8baeaa96-28c4-4722-c551-604d0139a377"
      },
      "source": [
        "A=np.array([[1,3,5,2],[2,1,6,4],[1,8,0,0]]).reshape(3,4)\r\n",
        "A"
      ],
      "execution_count": 1405,
      "outputs": [
        {
          "output_type": "execute_result",
          "data": {
            "text/plain": [
              "array([[1, 3, 5, 2],\n",
              "       [2, 1, 6, 4],\n",
              "       [1, 8, 0, 0]])"
            ]
          },
          "metadata": {
            "tags": []
          },
          "execution_count": 1405
        }
      ]
    },
    {
      "cell_type": "code",
      "metadata": {
        "id": "P0ODLqk-qEHL",
        "colab": {
          "base_uri": "https://localhost:8080/"
        },
        "outputId": "9fa94325-839f-45d3-e4ef-5b6c1bca0a89"
      },
      "source": [
        "np.transpose(A)"
      ],
      "execution_count": 1406,
      "outputs": [
        {
          "output_type": "execute_result",
          "data": {
            "text/plain": [
              "array([[1, 2, 1],\n",
              "       [3, 1, 8],\n",
              "       [5, 6, 0],\n",
              "       [2, 4, 0]])"
            ]
          },
          "metadata": {
            "tags": []
          },
          "execution_count": 1406
        }
      ]
    },
    {
      "cell_type": "markdown",
      "metadata": {
        "id": "ar1KrJTpqNHj"
      },
      "source": [
        "### Determinante\r\n"
      ]
    },
    {
      "cell_type": "code",
      "metadata": {
        "id": "LXpJDD1IqRQm",
        "colab": {
          "base_uri": "https://localhost:8080/"
        },
        "outputId": "8df630a1-532b-48e4-e5f3-5485e0e658b6"
      },
      "source": [
        "A=np.array([[1,2,5],[2,1,4],[1,0,0]])\r\n",
        "A"
      ],
      "execution_count": 1407,
      "outputs": [
        {
          "output_type": "execute_result",
          "data": {
            "text/plain": [
              "array([[1, 2, 5],\n",
              "       [2, 1, 4],\n",
              "       [1, 0, 0]])"
            ]
          },
          "metadata": {
            "tags": []
          },
          "execution_count": 1407
        }
      ]
    },
    {
      "cell_type": "code",
      "metadata": {
        "id": "nJqxz511qiGT",
        "colab": {
          "base_uri": "https://localhost:8080/",
          "height": 37
        },
        "outputId": "7aa61ea5-e013-4a5b-a427-d443ac483cf8"
      },
      "source": [
        "np.linalg.det(A)"
      ],
      "execution_count": 1408,
      "outputs": [
        {
          "output_type": "execute_result",
          "data": {
            "text/latex": "$\\displaystyle 3.0$",
            "text/plain": [
              "2.9999999999999996"
            ]
          },
          "metadata": {
            "tags": []
          },
          "execution_count": 1408
        }
      ]
    },
    {
      "cell_type": "code",
      "metadata": {
        "id": "vVLG9fG-_u0H",
        "colab": {
          "base_uri": "https://localhost:8080/",
          "height": 37
        },
        "outputId": "407a56e4-c483-40f3-bd57-955b0402727b"
      },
      "source": [
        "# Monitoria\r\n",
        "A = sp.Matrix([[5, 4, 3] , [0, -1, 7], [0, 0, 2]])\r\n",
        "A.det()"
      ],
      "execution_count": 1409,
      "outputs": [
        {
          "output_type": "execute_result",
          "data": {
            "text/latex": "$\\displaystyle -10$",
            "text/plain": [
              "-10"
            ]
          },
          "metadata": {
            "tags": []
          },
          "execution_count": 1409
        }
      ]
    },
    {
      "cell_type": "code",
      "metadata": {
        "id": "e2gpQ3Aw_7tB",
        "colab": {
          "base_uri": "https://localhost:8080/"
        },
        "outputId": "8fc431a7-6bb3-45cc-d95e-acaca5beb6a7"
      },
      "source": [
        "M = sp.Matrix([[1, 0, 1, 3], [2, 3, 4, 7], [-1, -3, -3, -4]]) \r\n",
        "print(\"Matrix : {} \".format(M)) \r\n",
        "   \r\n",
        "# Use sympy.nullspace() method  \r\n",
        "M_nullspace = M.nullspace()   \r\n",
        "      \r\n",
        "print(\"Nullspace of a matrix : {}\".format(M_nullspace)) "
      ],
      "execution_count": 1410,
      "outputs": [
        {
          "output_type": "stream",
          "text": [
            "Matrix : Matrix([[1, 0, 1, 3], [2, 3, 4, 7], [-1, -3, -3, -4]]) \n",
            "Nullspace of a matrix : [Matrix([\n",
            "[  -1],\n",
            "[-2/3],\n",
            "[   1],\n",
            "[   0]]), Matrix([\n",
            "[  -3],\n",
            "[-1/3],\n",
            "[   0],\n",
            "[   1]])]\n"
          ],
          "name": "stdout"
        }
      ]
    },
    {
      "cell_type": "markdown",
      "metadata": {
        "id": "iPxtwy8p6mOr"
      },
      "source": [
        "### Rango"
      ]
    },
    {
      "cell_type": "code",
      "metadata": {
        "id": "7xYvF2oA7aDA",
        "colab": {
          "base_uri": "https://localhost:8080/"
        },
        "outputId": "8fd39ffd-0c0c-4487-a3c3-30d796666d83"
      },
      "source": [
        "# Con herramienta Numpy\r\n",
        "A=np.array([[1,2,5],[2,1,4],[1,3,0]])\r\n",
        "np.linalg.matrix_rank(A)"
      ],
      "execution_count": 1411,
      "outputs": [
        {
          "output_type": "execute_result",
          "data": {
            "text/plain": [
              "3"
            ]
          },
          "metadata": {
            "tags": []
          },
          "execution_count": 1411
        }
      ]
    },
    {
      "cell_type": "code",
      "metadata": {
        "id": "oxM4fDSR6pYL",
        "colab": {
          "base_uri": "https://localhost:8080/",
          "height": 78
        },
        "outputId": "6dd630ce-f5c3-49c1-d3ef-9ecf4d2bd629"
      },
      "source": [
        "# Con herramienta SymPy\r\n",
        "A = sympy.Matrix ([[1,2,5],[2,1,4],[1,0,0]])\r\n",
        "A"
      ],
      "execution_count": 1412,
      "outputs": [
        {
          "output_type": "execute_result",
          "data": {
            "text/latex": "$\\displaystyle \\left[\\begin{matrix}1 & 2 & 5\\\\2 & 1 & 4\\\\1 & 0 & 0\\end{matrix}\\right]$",
            "text/plain": [
              "⎡1  2  5⎤\n",
              "⎢       ⎥\n",
              "⎢2  1  4⎥\n",
              "⎢       ⎥\n",
              "⎣1  0  0⎦"
            ]
          },
          "metadata": {
            "tags": []
          },
          "execution_count": 1412
        }
      ]
    },
    {
      "cell_type": "code",
      "metadata": {
        "id": "A1dbgxBw7NXQ",
        "colab": {
          "base_uri": "https://localhost:8080/",
          "height": 37
        },
        "outputId": "ab37bed0-3632-4533-d4a5-f65e5d7e9d59"
      },
      "source": [
        "A.rank()"
      ],
      "execution_count": 1413,
      "outputs": [
        {
          "output_type": "execute_result",
          "data": {
            "text/latex": "$\\displaystyle 3$",
            "text/plain": [
              "3"
            ]
          },
          "metadata": {
            "tags": []
          },
          "execution_count": 1413
        }
      ]
    },
    {
      "cell_type": "code",
      "metadata": {
        "id": "-iOGuKb5_hok",
        "colab": {
          "base_uri": "https://localhost:8080/",
          "height": 37
        },
        "outputId": "25be76e9-47cd-4bd5-b597-fdabdd0109f8"
      },
      "source": [
        "# Monitoria\r\n",
        "A = sp.Matrix([[3, 0, 2, 2], [-6, 42, 24, 54], [21, -21, 0, -15]])\r\n",
        "A.rank()"
      ],
      "execution_count": 1414,
      "outputs": [
        {
          "output_type": "execute_result",
          "data": {
            "text/latex": "$\\displaystyle 2$",
            "text/plain": [
              "2"
            ]
          },
          "metadata": {
            "tags": []
          },
          "execution_count": 1414
        }
      ]
    },
    {
      "cell_type": "markdown",
      "metadata": {
        "id": "fpfBdE5cJiiv"
      },
      "source": [
        "### Norma"
      ]
    },
    {
      "cell_type": "code",
      "metadata": {
        "id": "YcBXixtPC_rA",
        "colab": {
          "base_uri": "https://localhost:8080/"
        },
        "outputId": "025d37c2-a670-4448-9bee-df61801d4f05"
      },
      "source": [
        "# Monitoria - Norma\r\n",
        "a=np.array([1,5,7])\r\n",
        "b=np.array([3,4,1])\r\n",
        "np.inner(a, b) "
      ],
      "execution_count": 1415,
      "outputs": [
        {
          "output_type": "execute_result",
          "data": {
            "text/plain": [
              "30"
            ]
          },
          "metadata": {
            "tags": []
          },
          "execution_count": 1415
        }
      ]
    },
    {
      "cell_type": "markdown",
      "metadata": {
        "id": "DNvoB3fvNN2C"
      },
      "source": [
        "## Eigenvalores y Eigenvectores"
      ]
    },
    {
      "cell_type": "code",
      "metadata": {
        "id": "Cb03YXJzDKHl",
        "colab": {
          "base_uri": "https://localhost:8080/"
        },
        "outputId": "6da0a0b2-750e-4a7b-a3ca-a7fdbbfbb674"
      },
      "source": [
        "# Monitoria\r\n",
        "A = np.array([[-5,2], [2,-2]])\r\n",
        "evals, evecs = np.linalg.eig(A)\r\n",
        "evals"
      ],
      "execution_count": 1416,
      "outputs": [
        {
          "output_type": "execute_result",
          "data": {
            "text/plain": [
              "array([-6., -1.])"
            ]
          },
          "metadata": {
            "tags": []
          },
          "execution_count": 1416
        }
      ]
    },
    {
      "cell_type": "code",
      "metadata": {
        "id": "qyNvZMOkDVQr",
        "colab": {
          "base_uri": "https://localhost:8080/"
        },
        "outputId": "86a7f30a-3cd6-4a74-b15b-089ef34e5c9f"
      },
      "source": [
        "evecs"
      ],
      "execution_count": 1417,
      "outputs": [
        {
          "output_type": "execute_result",
          "data": {
            "text/plain": [
              "array([[-0.89442719, -0.4472136 ],\n",
              "       [ 0.4472136 , -0.89442719]])"
            ]
          },
          "metadata": {
            "tags": []
          },
          "execution_count": 1417
        }
      ]
    },
    {
      "cell_type": "code",
      "metadata": {
        "id": "4uQjb2dJNMa8",
        "colab": {
          "base_uri": "https://localhost:8080/"
        },
        "outputId": "792148e6-caba-4581-85b5-5e20ad819984"
      },
      "source": [
        "A=np.array([[5,2],[6,-3]])\r\n",
        "\r\n",
        "\r\n",
        "x,v=np.linalg.eig(A)\r\n",
        "# Donde \"x\" Eigenvalor y \"v\" eigenvector\r\n",
        "x,v"
      ],
      "execution_count": 1418,
      "outputs": [
        {
          "output_type": "execute_result",
          "data": {
            "text/plain": [
              "(array([ 6.29150262, -4.29150262]), array([[ 0.84007078, -0.21043072],\n",
              "        [ 0.54247681,  0.97760877]]))"
            ]
          },
          "metadata": {
            "tags": []
          },
          "execution_count": 1418
        }
      ]
    },
    {
      "cell_type": "code",
      "metadata": {
        "id": "2S9dESnjDekH",
        "colab": {
          "base_uri": "https://localhost:8080/",
          "height": 61
        },
        "outputId": "b7fbd7a5-5f02-4031-c6e4-e98737d02d10"
      },
      "source": [
        "# Con SymPy\r\n",
        "A = sympy.Matrix([[5,2],[6,-3]])\r\n",
        "# Eigenvector\r\n",
        "A.eigenvects()"
      ],
      "execution_count": 1419,
      "outputs": [
        {
          "output_type": "execute_result",
          "data": {
            "text/latex": "$\\displaystyle \\left[ \\left( 1 - 2 \\sqrt{7}, \\  1, \\  \\left[ \\left[\\begin{matrix}- \\frac{2}{4 + 2 \\sqrt{7}}\\\\1\\end{matrix}\\right]\\right]\\right), \\  \\left( 1 + 2 \\sqrt{7}, \\  1, \\  \\left[ \\left[\\begin{matrix}- \\frac{2}{4 - 2 \\sqrt{7}}\\\\1\\end{matrix}\\right]\\right]\\right)\\right]$",
            "text/plain": [
              "⎡⎛             ⎡⎡  -2    ⎤⎤⎞  ⎛             ⎡⎡  -2    ⎤⎤⎞⎤\n",
              "⎢⎜             ⎢⎢────────⎥⎥⎟  ⎜             ⎢⎢────────⎥⎥⎟⎥\n",
              "⎢⎜1 - 2⋅√7, 1, ⎢⎢4 + 2⋅√7⎥⎥⎟, ⎜1 + 2⋅√7, 1, ⎢⎢4 - 2⋅√7⎥⎥⎟⎥\n",
              "⎢⎜             ⎢⎢        ⎥⎥⎟  ⎜             ⎢⎢        ⎥⎥⎟⎥\n",
              "⎣⎝             ⎣⎣   1    ⎦⎦⎠  ⎝             ⎣⎣   1    ⎦⎦⎠⎦"
            ]
          },
          "metadata": {
            "tags": []
          },
          "execution_count": 1419
        }
      ]
    },
    {
      "cell_type": "code",
      "metadata": {
        "id": "GJDBQQoIVkuR",
        "colab": {
          "base_uri": "https://localhost:8080/",
          "height": 47
        },
        "outputId": "168be7ce-fcda-434a-b3f4-3a32de3e85b0"
      },
      "source": [
        "# Eigenvalor\r\n",
        "A.eigenvals()"
      ],
      "execution_count": 1420,
      "outputs": [
        {
          "output_type": "execute_result",
          "data": {
            "text/latex": "$\\displaystyle \\left\\{ 1 - 2 \\sqrt{7} : 1, \\  1 + 2 \\sqrt{7} : 1\\right\\}$",
            "text/plain": [
              "{1 - 2⋅√7: 1, 1 + 2⋅√7: 1}"
            ]
          },
          "metadata": {
            "tags": []
          },
          "execution_count": 1420
        }
      ]
    },
    {
      "cell_type": "code",
      "metadata": {
        "id": "_Y6AQ3U1EgEb",
        "colab": {
          "base_uri": "https://localhost:8080/",
          "height": 70
        },
        "outputId": "9c5ad346-ac17-4733-d68f-25c42dbc44f2"
      },
      "source": [
        "# Comprobando ax = λx\r\n",
        "\r\n",
        "x=A.eigenvects()[0][2][0]\r\n",
        "v=A.eigenvects()[0][0]\r\n",
        "\r\n",
        "# Ax == vx\r\n",
        "A*x, v*x"
      ],
      "execution_count": 1421,
      "outputs": [
        {
          "output_type": "execute_result",
          "data": {
            "text/latex": "$\\displaystyle \\left( \\left[\\begin{matrix}2 - \\frac{10}{4 + 2 \\sqrt{7}}\\\\-3 - \\frac{12}{4 + 2 \\sqrt{7}}\\end{matrix}\\right], \\  \\left[\\begin{matrix}- \\frac{2 \\left(1 - 2 \\sqrt{7}\\right)}{4 + 2 \\sqrt{7}}\\\\1 - 2 \\sqrt{7}\\end{matrix}\\right]\\right)$",
            "text/plain": [
              "⎛⎡       10    ⎤                  ⎞\n",
              "⎜⎢2 - ──────── ⎥  ⎡-2⋅(1 - 2⋅√7) ⎤⎟\n",
              "⎜⎢    4 + 2⋅√7 ⎥  ⎢──────────────⎥⎟\n",
              "⎜⎢             ⎥, ⎢   4 + 2⋅√7   ⎥⎟\n",
              "⎜⎢        12   ⎥  ⎢              ⎥⎟\n",
              "⎜⎢-3 - ────────⎥  ⎣   1 - 2⋅√7   ⎦⎟\n",
              "⎝⎣     4 + 2⋅√7⎦                  ⎠"
            ]
          },
          "metadata": {
            "tags": []
          },
          "execution_count": 1421
        }
      ]
    },
    {
      "cell_type": "markdown",
      "metadata": {
        "id": "ojwFQBTKFZ7p"
      },
      "source": [
        "## Diagonalizacion de Matrices"
      ]
    },
    {
      "cell_type": "code",
      "metadata": {
        "id": "l90ONYGwFeat",
        "colab": {
          "base_uri": "https://localhost:8080/"
        },
        "outputId": "f2c718d0-6bd5-495a-ac10-684eb7567bc2"
      },
      "source": [
        "A = np.array([[2,6],[0,-1]])\r\n",
        "A"
      ],
      "execution_count": 1422,
      "outputs": [
        {
          "output_type": "execute_result",
          "data": {
            "text/plain": [
              "array([[ 2,  6],\n",
              "       [ 0, -1]])"
            ]
          },
          "metadata": {
            "tags": []
          },
          "execution_count": 1422
        }
      ]
    },
    {
      "cell_type": "code",
      "metadata": {
        "id": "rHFr_QYBGfTZ",
        "colab": {
          "base_uri": "https://localhost:8080/"
        },
        "outputId": "c4fa7aaa-1050-4809-897e-38dd1616ee0e"
      },
      "source": [
        "evals, evecs = np.linalg.eig(A)\r\n",
        "evals"
      ],
      "execution_count": 1423,
      "outputs": [
        {
          "output_type": "execute_result",
          "data": {
            "text/plain": [
              "array([ 2., -1.])"
            ]
          },
          "metadata": {
            "tags": []
          },
          "execution_count": 1423
        }
      ]
    },
    {
      "cell_type": "code",
      "metadata": {
        "id": "XLu9z01aGhAd",
        "colab": {
          "base_uri": "https://localhost:8080/"
        },
        "outputId": "ccb437c2-5814-4298-e594-0db1dbacacf0"
      },
      "source": [
        "evecs"
      ],
      "execution_count": 1424,
      "outputs": [
        {
          "output_type": "execute_result",
          "data": {
            "text/plain": [
              "array([[ 1.        , -0.89442719],\n",
              "       [ 0.        ,  0.4472136 ]])"
            ]
          },
          "metadata": {
            "tags": []
          },
          "execution_count": 1424
        }
      ]
    },
    {
      "cell_type": "code",
      "metadata": {
        "id": "wG5jFpBnGipJ",
        "colab": {
          "base_uri": "https://localhost:8080/"
        },
        "outputId": "87785e36-5b7b-47bf-8dc0-2bbf1a313186"
      },
      "source": [
        "A=evecs@np.diag(evals)@np.linalg.inv(evecs)\r\n",
        "A "
      ],
      "execution_count": 1425,
      "outputs": [
        {
          "output_type": "execute_result",
          "data": {
            "text/plain": [
              "array([[ 2.,  6.],\n",
              "       [ 0., -1.]])"
            ]
          },
          "metadata": {
            "tags": []
          },
          "execution_count": 1425
        }
      ]
    },
    {
      "cell_type": "markdown",
      "metadata": {
        "id": "BfRj9Zh_q5PH"
      },
      "source": [
        "##Sistemas de Ecuaciones Lineales\r\n",
        "\r\n",
        "Least squares is a standard approach to problems with more equations than unknowns, also known as overdetermined systems. // Los mínimos cuadrados es un enfoque estándar para problemas con más ecuaciones que incógnitas, también conocido como sistemas sobredeterminados.\r\n",
        "\r\n",
        "Consider the four equations:\r\n",
        "$$\r\n",
        "x1 -  x2 + x3 = 0\\\\\r\n",
        "-x1 + x2 - x3 = 0\\\\\r\n",
        "10x2 + 25x3 = 90\\\\\r\n",
        "20x1 + 10x2 = 80\\\\\r\n",
        "$$\r\n",
        "We can express this as a matrix multiplication $A * x = b:$\r\n"
      ]
    },
    {
      "cell_type": "code",
      "metadata": {
        "id": "ZW725oIaAheo"
      },
      "source": [
        "A = np.array([[1, -1, 1], \r\n",
        "               [-1, 1, -1], \r\n",
        "               [0, 10, 25], \r\n",
        "               [20, 10, 0]])\r\n",
        "b = np.array([[0], \r\n",
        "               [0], \r\n",
        "               [90], \r\n",
        "               [80]],)"
      ],
      "execution_count": 1426,
      "outputs": []
    },
    {
      "cell_type": "markdown",
      "metadata": {
        "id": "nxXBvdgsAyAi"
      },
      "source": [
        "Solucion con : **np.linalg.lstsq**"
      ]
    },
    {
      "cell_type": "code",
      "metadata": {
        "id": "d_nLP7XbA3Q3",
        "colab": {
          "base_uri": "https://localhost:8080/"
        },
        "outputId": "f9d714d1-8df0-4748-a393-86627aa20b84"
      },
      "source": [
        "x, residuals, rank, s = np.linalg.lstsq(A,b)"
      ],
      "execution_count": 1427,
      "outputs": [
        {
          "output_type": "stream",
          "text": [
            "/usr/local/lib/python3.7/dist-packages/ipykernel_launcher.py:1: FutureWarning: `rcond` parameter will change to the default of machine precision times ``max(M, N)`` where M and N are the input matrix dimensions.\n",
            "To use the future default and silence this warning we advise to pass `rcond=None`, to keep using the old, explicitly pass `rcond=-1`.\n",
            "  \"\"\"Entry point for launching an IPython kernel.\n"
          ],
          "name": "stderr"
        }
      ]
    },
    {
      "cell_type": "markdown",
      "metadata": {
        "id": "AGHwof3UBQC9"
      },
      "source": [
        "***x*** is the solution, **residuals** the sum, **rank** the matrix rank of input A, and **s** the singular values of A. If b has more than one dimension, lstsq will solve the system corresponding to each column of b:"
      ]
    },
    {
      "cell_type": "code",
      "metadata": {
        "id": "AaG3yaLkBhjJ",
        "colab": {
          "base_uri": "https://localhost:8080/"
        },
        "outputId": "83d92f98-42e3-4ffd-97a9-f5f4955b4e41"
      },
      "source": [
        "print(x)"
      ],
      "execution_count": 1428,
      "outputs": [
        {
          "output_type": "stream",
          "text": [
            "[[2.]\n",
            " [4.]\n",
            " [2.]]\n"
          ],
          "name": "stdout"
        }
      ]
    },
    {
      "cell_type": "markdown",
      "metadata": {
        "id": "-CYSZRt6BlCd"
      },
      "source": [
        "Segundo ejemplo:"
      ]
    },
    {
      "cell_type": "code",
      "metadata": {
        "id": "IsRhV8gOBogR",
        "colab": {
          "base_uri": "https://localhost:8080/"
        },
        "outputId": "cb8f7414-3a7a-4777-acd1-88d7492f2804"
      },
      "source": [
        "A = np.array([[4, 3, 2], \r\n",
        "              [-2, 2, 3], \r\n",
        "              [3, -5, 2]])\r\n",
        "B = np.array([25, -10, -4])\r\n",
        "X2 = np.linalg.solve(A,B)\r\n",
        "\r\n",
        "print(X2)"
      ],
      "execution_count": 1429,
      "outputs": [
        {
          "output_type": "stream",
          "text": [
            "[ 5.  3. -2.]\n"
          ],
          "name": "stdout"
        }
      ]
    },
    {
      "cell_type": "markdown",
      "metadata": {
        "id": "jbcYfJ9I4Hgp"
      },
      "source": [
        "###Representacion Grafica"
      ]
    },
    {
      "cell_type": "code",
      "metadata": {
        "id": "rrvYeGX2rE_3",
        "colab": {
          "base_uri": "https://localhost:8080/",
          "height": 285
        },
        "outputId": "21fbef40-daef-4317-abc5-95839f6d6660"
      },
      "source": [
        "#Grafica del sistema de ecuaciones\r\n",
        "x_vals = np.linspace (0, 3, 40)\r\n",
        "plt.plot(x_vals, (1-(2*x_vals))/-3)\r\n",
        "plt.plot(x_vals, (8-(3*x_vals))/5)\r\n",
        "plt.axis(ymin = 0)"
      ],
      "execution_count": 1430,
      "outputs": [
        {
          "output_type": "execute_result",
          "data": {
            "text/latex": "$\\displaystyle \\left( -0.15, \\  3.15, \\  0.0, \\  1.76666666666667\\right)$",
            "text/plain": [
              "(-0.15000000000000002, 3.15, 0.0, 1.7666666666666668)"
            ]
          },
          "metadata": {
            "tags": []
          },
          "execution_count": 1430
        },
        {
          "output_type": "display_data",
          "data": {
            "image/png": "[encoded data removed]",
            "text/plain": [
              "<Figure size 432x288 with 1 Axes>"
            ]
          },
          "metadata": {
            "tags": [],
            "needs_background": "light"
          }
        }
      ]
    },
    {
      "cell_type": "markdown",
      "metadata": {
        "id": "IVvoPku-82f5"
      },
      "source": [
        "Comprobacion por multiplicacion de matrices:"
      ]
    },
    {
      "cell_type": "code",
      "metadata": {
        "id": "CQ5Dz4CA4EEH",
        "colab": {
          "base_uri": "https://localhost:8080/"
        },
        "outputId": "2d9c1cfd-d7cf-4c7f-e2f7-64ed0178f23b"
      },
      "source": [
        "A = np.array([[2,-3],[3,5]])\r\n",
        "x = np.array([[1.52],[0.68]])\r\n",
        "A @ x # Ax = b"
      ],
      "execution_count": 1431,
      "outputs": [
        {
          "output_type": "execute_result",
          "data": {
            "text/plain": [
              "array([[1.  ],\n",
              "       [7.96]])"
            ]
          },
          "metadata": {
            "tags": []
          },
          "execution_count": 1431
        }
      ]
    },
    {
      "cell_type": "markdown",
      "metadata": {
        "id": "a82l_u8C9e4G"
      },
      "source": [
        "Solucion de un sistema 3 x 3:\r\n",
        "\r\n",
        "* x + 4y + 2y = 10\r\n",
        "\r\n",
        " 2x - 8y + z  = 5\r\n",
        "\r\n",
        " 5x + y + 6y = 1\r\n"
      ]
    },
    {
      "cell_type": "code",
      "metadata": {
        "id": "_djoAIG4-95-",
        "colab": {
          "base_uri": "https://localhost:8080/"
        },
        "outputId": "979deb61-3bcc-4e63-8229-4e733c81a2b0"
      },
      "source": [
        "# Matriz de coeficientes\r\n",
        "A = np.array ([[1,4,2],[2,-8,1],[5,1,6]])\r\n",
        "A"
      ],
      "execution_count": 1432,
      "outputs": [
        {
          "output_type": "execute_result",
          "data": {
            "text/plain": [
              "array([[ 1,  4,  2],\n",
              "       [ 2, -8,  1],\n",
              "       [ 5,  1,  6]])"
            ]
          },
          "metadata": {
            "tags": []
          },
          "execution_count": 1432
        }
      ]
    },
    {
      "cell_type": "code",
      "metadata": {
        "id": "oHPDOp5iAmu9",
        "colab": {
          "base_uri": "https://localhost:8080/"
        },
        "outputId": "ad0e22bc-c455-43c2-8f2a-3958372a7f31"
      },
      "source": [
        "# Matriz de resultados\r\n",
        "b = np.array([10, 5, 1])\r\n",
        "b"
      ],
      "execution_count": 1433,
      "outputs": [
        {
          "output_type": "execute_result",
          "data": {
            "text/plain": [
              "array([10,  5,  1])"
            ]
          },
          "metadata": {
            "tags": []
          },
          "execution_count": 1433
        }
      ]
    },
    {
      "cell_type": "code",
      "metadata": {
        "id": "MZZYkzMsFM-o",
        "colab": {
          "base_uri": "https://localhost:8080/"
        },
        "outputId": "55f4f015-1cda-494c-c863-f70ef8333329"
      },
      "source": [
        "# Solucion del sistema\r\n",
        "x = np.linalg.solve(A,b)\r\n",
        "x"
      ],
      "execution_count": 1434,
      "outputs": [
        {
          "output_type": "execute_result",
          "data": {
            "text/plain": [
              "array([-82.85714286, -12.42857143,  71.28571429])"
            ]
          },
          "metadata": {
            "tags": []
          },
          "execution_count": 1434
        }
      ]
    },
    {
      "cell_type": "code",
      "metadata": {
        "id": "XOIssfNfFozg",
        "colab": {
          "base_uri": "https://localhost:8080/"
        },
        "outputId": "0400122d-af54-4f99-aaa3-6886c3b6d611"
      },
      "source": [
        "# Comprobacion\r\n",
        "A @ x == b"
      ],
      "execution_count": 1435,
      "outputs": [
        {
          "output_type": "execute_result",
          "data": {
            "text/plain": [
              "array([False, False,  True])"
            ]
          },
          "metadata": {
            "tags": []
          },
          "execution_count": 1435
        }
      ]
    },
    {
      "cell_type": "code",
      "metadata": {
        "id": "NlKEHasYRWbI",
        "colab": {
          "base_uri": "https://localhost:8080/",
          "height": 38
        },
        "outputId": "45121bf9-da33-4351-bc46-da90228c1731"
      },
      "source": [
        "from sympy import Matrix , solve_linear_system\r\n",
        "from sympy . abc import x ,y , z\r\n",
        "A = Matrix ([[ -2 ,1 ,1 ,0] ,[1 , -2 ,1 ,0] ,[1 ,1 , -2 ,0]])\r\n",
        "solve_linear_system (A ,x ,y , z )\r\n"
      ],
      "execution_count": 1436,
      "outputs": [
        {
          "output_type": "execute_result",
          "data": {
            "text/latex": "$\\displaystyle \\left\\{ x : z, \\  y : z\\right\\}$",
            "text/plain": [
              "{x: z, y: z}"
            ]
          },
          "metadata": {
            "tags": []
          },
          "execution_count": 1436
        }
      ]
    },
    {
      "cell_type": "code",
      "metadata": {
        "id": "2ciWaL2jRngk",
        "colab": {
          "base_uri": "https://localhost:8080/",
          "height": 78
        },
        "outputId": "6bc6e4e2-a635-42fa-dcab-14345a249e45"
      },
      "source": [
        "from sympy import Matrix\r\n",
        "# Reduccion tipo Gauss\r\n",
        "a = Matrix ([[2 ,1 ,1 ,1] ,[1 ,2 ,1 ,2] ,[1 ,1 ,2 ,3]])\r\n",
        "a . rref ()\r\n"
      ],
      "execution_count": 1437,
      "outputs": [
        {
          "output_type": "execute_result",
          "data": {
            "text/latex": "$\\displaystyle \\left( \\left[\\begin{matrix}1 & 0 & 0 & - \\frac{1}{2}\\\\0 & 1 & 0 & \\frac{1}{2}\\\\0 & 0 & 1 & \\frac{3}{2}\\end{matrix}\\right], \\  \\left( 0, \\  1, \\  2\\right)\\right)$",
            "text/plain": [
              "⎛⎡1  0  0  -1/2⎤           ⎞\n",
              "⎜⎢             ⎥           ⎟\n",
              "⎜⎢0  1  0  1/2 ⎥, (0, 1, 2)⎟\n",
              "⎜⎢             ⎥           ⎟\n",
              "⎝⎣0  0  1  3/2 ⎦           ⎠"
            ]
          },
          "metadata": {
            "tags": []
          },
          "execution_count": 1437
        }
      ]
    },
    {
      "cell_type": "markdown",
      "metadata": {
        "id": "37pukBcUSde1"
      },
      "source": [
        "## Descomposicion de valores singulare (SVD)"
      ]
    },
    {
      "cell_type": "markdown",
      "metadata": {
        "id": "T0WjbM8eDlYy"
      },
      "source": [
        "### Valor Singular"
      ]
    },
    {
      "cell_type": "code",
      "metadata": {
        "id": "31BZZOwsDw7U",
        "colab": {
          "base_uri": "https://localhost:8080/"
        },
        "outputId": "b53c070c-dff0-4228-c388-96a2c7f68470"
      },
      "source": [
        "A=np.matrix([[0,1],[1,1],[1,0]])\r\n",
        "ATA=A.T@A\r\n",
        "ATA"
      ],
      "execution_count": 1438,
      "outputs": [
        {
          "output_type": "execute_result",
          "data": {
            "text/plain": [
              "matrix([[2, 1],\n",
              "        [1, 2]])"
            ]
          },
          "metadata": {
            "tags": []
          },
          "execution_count": 1438
        }
      ]
    },
    {
      "cell_type": "code",
      "metadata": {
        "id": "EYErWLBSDzH6",
        "colab": {
          "base_uri": "https://localhost:8080/"
        },
        "outputId": "a92c3a9a-d383-4c1c-dcf0-c9a6ec713adc"
      },
      "source": [
        "evals, evecs = np.linalg.eig(ATA)\r\n",
        "Singularvalues = np.sqrt(evals)\r\n",
        "Singularvalues"
      ],
      "execution_count": 1439,
      "outputs": [
        {
          "output_type": "execute_result",
          "data": {
            "text/plain": [
              "array([1.73205081, 1.        ])"
            ]
          },
          "metadata": {
            "tags": []
          },
          "execution_count": 1439
        }
      ]
    },
    {
      "cell_type": "markdown",
      "metadata": {
        "id": "6ubuqpGuD1cM"
      },
      "source": [
        "### Descomposicion del valor singular"
      ]
    },
    {
      "cell_type": "code",
      "metadata": {
        "id": "YcX6xj1KD6w5",
        "colab": {
          "base_uri": "https://localhost:8080/"
        },
        "outputId": "5987a94b-c061-48ca-b1cd-52f15e551c1d"
      },
      "source": [
        " [U, S, V] = np.linalg.svd(A)\r\n",
        " print(U)\r\n",
        " print(S)\r\n",
        " print(V)"
      ],
      "execution_count": 1440,
      "outputs": [
        {
          "output_type": "stream",
          "text": [
            "[[-4.08248290e-01  7.07106781e-01  5.77350269e-01]\n",
            " [-8.16496581e-01  7.45552182e-17 -5.77350269e-01]\n",
            " [-4.08248290e-01 -7.07106781e-01  5.77350269e-01]]\n",
            "[1.73205081 1.        ]\n",
            "[[-0.70710678 -0.70710678]\n",
            " [-0.70710678  0.70710678]]\n"
          ],
          "name": "stdout"
        }
      ]
    },
    {
      "cell_type": "markdown",
      "metadata": {
        "id": "peyAQo45D8m-"
      },
      "source": [
        "## Forma Cuadratica"
      ]
    },
    {
      "cell_type": "code",
      "metadata": {
        "id": "6gZCj4u1EGBf",
        "colab": {
          "base_uri": "https://localhost:8080/"
        },
        "outputId": "3e39f980-e724-4392-c19e-c85e4bda7f73"
      },
      "source": [
        "x1,x2 = sp.symbols(\"x1 x2\") #Crear variables simbólicas\r\n",
        "x = sp.Matrix([[x1],[x2]]) #Agruparlas en una matriz\r\n",
        "Q = sp.Matrix([[3,4],[6,1]]) \r\n",
        "print('x = %s'%x)\r\n",
        "print('Q = %s'%Q)"
      ],
      "execution_count": 1441,
      "outputs": [
        {
          "output_type": "stream",
          "text": [
            "x = Matrix([[x1], [x2]])\n",
            "Q = Matrix([[3, 4], [6, 1]])\n"
          ],
          "name": "stdout"
        }
      ]
    },
    {
      "cell_type": "code",
      "metadata": {
        "id": "xltZIg5SEh-r",
        "colab": {
          "base_uri": "https://localhost:8080/"
        },
        "outputId": "f199410a-6e39-45aa-8eb4-10f9afb7849c"
      },
      "source": [
        "QuadForm = x.T@Q@x #Cálculo forma cuadrática\r\n",
        "print('La forma cuadratica de Q es %s'%QuadForm)"
      ],
      "execution_count": 1442,
      "outputs": [
        {
          "output_type": "stream",
          "text": [
            "La forma cuadratica de Q es Matrix([[x1*(3*x1 + 6*x2) + x2*(4*x1 + x2)]])\n"
          ],
          "name": "stdout"
        }
      ]
    },
    {
      "cell_type": "code",
      "metadata": {
        "id": "ZlyVVvl8F16T"
      },
      "source": [
        ""
      ],
      "execution_count": 1442,
      "outputs": []
    },
    {
      "cell_type": "markdown",
      "metadata": {
        "id": "f-wpLWrMElJT"
      },
      "source": [
        "## Gradiente"
      ]
    },
    {
      "cell_type": "code",
      "metadata": {
        "id": "8gS3KhreEm_X",
        "colab": {
          "base_uri": "https://localhost:8080/",
          "height": 38
        },
        "outputId": "f5578d26-92dc-4be1-e9ff-698dedeef0d1"
      },
      "source": [
        "x1,x2,x3 = sp.symbols(\"x1, x2, x3\") #Crear variables simbólicas\r\n",
        "x = np.array([x1,x2,x3])\r\n",
        "fx =  x1**2 + x3**2 + 2*x1*x2 + 2*x1*x3 + 2*x2*x3\r\n",
        "fx"
      ],
      "execution_count": 1443,
      "outputs": [
        {
          "output_type": "execute_result",
          "data": {
            "text/latex": "$\\displaystyle x_{1}^{2} + 2 x_{1} x_{2} + 2 x_{1} x_{3} + 2 x_{2} x_{3} + x_{3}^{2}$",
            "text/plain": [
              "  2                                   2\n",
              "x₁  + 2⋅x₁⋅x₂ + 2⋅x₁⋅x₃ + 2⋅x₂⋅x₃ + x₃ "
            ]
          },
          "metadata": {
            "tags": []
          },
          "execution_count": 1443
        }
      ]
    },
    {
      "cell_type": "code",
      "metadata": {
        "id": "k4n_YhJJEqmR",
        "colab": {
          "base_uri": "https://localhost:8080/",
          "height": 38
        },
        "outputId": "71071f1d-f9f2-4705-e55f-a5f2703f388c"
      },
      "source": [
        "gradf = [fx.diff(x) for x in (x1, x2,x3)] #Gradiente de f(x)\r\n",
        "gradf"
      ],
      "execution_count": 1444,
      "outputs": [
        {
          "output_type": "execute_result",
          "data": {
            "text/latex": "$\\displaystyle \\left[ 2 x_{1} + 2 x_{2} + 2 x_{3}, \\  2 x_{1} + 2 x_{3}, \\  2 x_{1} + 2 x_{2} + 2 x_{3}\\right]$",
            "text/plain": [
              "[2⋅x₁ + 2⋅x₂ + 2⋅x₃, 2⋅x₁ + 2⋅x₃, 2⋅x₁ + 2⋅x₂ + 2⋅x₃]"
            ]
          },
          "metadata": {
            "tags": []
          },
          "execution_count": 1444
        }
      ]
    },
    {
      "cell_type": "markdown",
      "metadata": {
        "id": "d4u21HcUEveJ"
      },
      "source": [
        "## Matriz Hessiana"
      ]
    },
    {
      "cell_type": "code",
      "metadata": {
        "id": "OQX6EZhxEy9w",
        "colab": {
          "base_uri": "https://localhost:8080/",
          "height": 37
        },
        "outputId": "6244805b-60e2-4eb0-dc73-01f50f528511"
      },
      "source": [
        "hessf = [[[fx.diff(x1_,x2_) for x1_ in (x1, x2,x3)] for x2_ in (x1, x2,x3)]] #Matriz hessiana de f(x)\r\n",
        "hessf"
      ],
      "execution_count": 1445,
      "outputs": [
        {
          "output_type": "execute_result",
          "data": {
            "text/latex": "$\\displaystyle \\left[ \\left[ \\left[ 2, \\  2, \\  2\\right], \\  \\left[ 2, \\  0, \\  2\\right], \\  \\left[ 2, \\  2, \\  2\\right]\\right]\\right]$",
            "text/plain": [
              "[[[2, 2, 2], [2, 0, 2], [2, 2, 2]]]"
            ]
          },
          "metadata": {
            "tags": []
          },
          "execution_count": 1445
        }
      ]
    },
    {
      "cell_type": "markdown",
      "metadata": {
        "id": "WFZEFMz2E7nf"
      },
      "source": [
        "## Level Set"
      ]
    },
    {
      "cell_type": "code",
      "metadata": {
        "id": "H3XwJtqSFBNM"
      },
      "source": [
        "delta = 0.25 \r\n",
        "x=np.arange(-3,3,delta)\r\n",
        "x1,x2 = np.meshgrid(x,x ) \r\n",
        "f = x1**2 + x2**2 "
      ],
      "execution_count": 1446,
      "outputs": []
    },
    {
      "cell_type": "code",
      "metadata": {
        "id": "m6P437WiFD4x",
        "colab": {
          "base_uri": "https://localhost:8080/",
          "height": 280
        },
        "outputId": "cb7c9bb3-a697-4f70-e1ff-f749df28653e"
      },
      "source": [
        "c= plt.contour ( x1 , x2 , f ) \r\n",
        "plt.xlabel( 'x_1' ) \r\n",
        "plt.ylabel( 'x_2' )\r\n",
        "plt.clabel( c ) ;\r\n",
        "#plt.axis([5,19,5,19])"
      ],
      "execution_count": 1447,
      "outputs": [
        {
          "output_type": "display_data",
          "data": {
            "image/png": "[encoded data removed]",
            "text/plain": [
              "<Figure size 432x288 with 1 Axes>"
            ]
          },
          "metadata": {
            "tags": [],
            "needs_background": "light"
          }
        }
      ]
    },
    {
      "cell_type": "code",
      "metadata": {
        "id": "T-7f4eH3FIkq",
        "colab": {
          "base_uri": "https://localhost:8080/",
          "height": 300
        },
        "outputId": "717cc045-c1cd-4a6a-bf53-8e11108b6cf5"
      },
      "source": [
        "delta = 0.25 ;\r\n",
        "x=np.arange(-3,3,delta)\r\n",
        "x1,x2 = np.meshgrid(x,x )\r\n",
        "f = x1**2 + x2**2 \r\n",
        "[fx1 ,fx2 ] = np.gradient( f , delta , delta ) ;\r\n",
        "plt.contour ( x1 , x2 , f ) \r\n",
        "plt.xlabel ( 'x_1' ) \r\n",
        "plt.ylabel ( 'x_2' )\r\n",
        "plt.quiver (x2,x1, fx1 , fx2 )\r\n",
        "fx1.shape"
      ],
      "execution_count": 1448,
      "outputs": [
        {
          "output_type": "execute_result",
          "data": {
            "text/latex": "$\\displaystyle \\left( 24, \\  24\\right)$",
            "text/plain": [
              "(24, 24)"
            ]
          },
          "metadata": {
            "tags": []
          },
          "execution_count": 1448
        },
        {
          "output_type": "display_data",
          "data": {
            "image/png": "[encoded data removed]",
            "text/plain": [
              "<Figure size 432x288 with 1 Axes>"
            ]
          },
          "metadata": {
            "tags": [],
            "needs_background": "light"
          }
        }
      ]
    },
    {
      "cell_type": "markdown",
      "metadata": {
        "id": "9oxGVjI1FKny"
      },
      "source": [
        "## Derivada Direccional"
      ]
    },
    {
      "cell_type": "code",
      "metadata": {
        "id": "7Dul96bOFMwn",
        "colab": {
          "base_uri": "https://localhost:8080/",
          "height": 38
        },
        "outputId": "790adb8c-b15f-4f10-e0e9-f0bd1c8d2c81"
      },
      "source": [
        "x1,x2,x3 = sp.symbols(\"x1, x2, x3\")\r\n",
        "fx = x1*x2*x3\r\n",
        "fx"
      ],
      "execution_count": 1449,
      "outputs": [
        {
          "output_type": "execute_result",
          "data": {
            "text/latex": "$\\displaystyle x_{1} x_{2} x_{3}$",
            "text/plain": [
              "x₁⋅x₂⋅x₃"
            ]
          },
          "metadata": {
            "tags": []
          },
          "execution_count": 1449
        }
      ]
    },
    {
      "cell_type": "code",
      "metadata": {
        "id": "d3l2t2gwFPJ0",
        "colab": {
          "base_uri": "https://localhost:8080/"
        },
        "outputId": "d34946e2-7cfd-45d9-b4a7-d8743803de9c"
      },
      "source": [
        "d = np.array([[2/3],[1/3],[2/3]])\r\n",
        "d"
      ],
      "execution_count": 1450,
      "outputs": [
        {
          "output_type": "execute_result",
          "data": {
            "text/plain": [
              "array([[0.66666667],\n",
              "       [0.33333333],\n",
              "       [0.66666667]])"
            ]
          },
          "metadata": {
            "tags": []
          },
          "execution_count": 1450
        }
      ]
    },
    {
      "cell_type": "code",
      "metadata": {
        "id": "qcF-R0X1FRmJ",
        "colab": {
          "base_uri": "https://localhost:8080/"
        },
        "outputId": "c2b57477-bdd8-43f0-abc9-8f1649706bec"
      },
      "source": [
        "gradf = [fx.diff(x) for x in (x1, x2,x3)] #Gradiente de f(x)\r\n",
        "derdir = np.asarray(gradf).T@d\r\n",
        "print('the directional derivate of f(x) in the direction of d is %s'%derdir)"
      ],
      "execution_count": 1451,
      "outputs": [
        {
          "output_type": "stream",
          "text": [
            "the directional derivate of f(x) in the direction of d is [0.666666666666667*x1*x2 + 0.333333333333333*x1*x3 + 0.666666666666667*x2*x3]\n"
          ],
          "name": "stdout"
        }
      ]
    },
    {
      "cell_type": "markdown",
      "metadata": {
        "id": "Zw7AJdI6zyyT"
      },
      "source": [
        "## Problems"
      ]
    },
    {
      "cell_type": "markdown",
      "metadata": {
        "id": "kWNzPT6D0AAQ"
      },
      "source": [
        "### Problem 2\r\n",
        "#### Find the rank of the following matrices using column operations"
      ]
    },
    {
      "cell_type": "code",
      "metadata": {
        "id": "INbPT93o9ZO2",
        "colab": {
          "base_uri": "https://localhost:8080/",
          "height": 37
        },
        "outputId": "70ccb166-6177-4397-96e8-76e9e062d2ec"
      },
      "source": [
        "A = sp.Matrix([[3, 2, 2, -5], [0.6, 1.5, 1.5, -5.4], [1.2, -0.3, -0.3, 2.4]])\r\n",
        "A.rank()"
      ],
      "execution_count": 1452,
      "outputs": [
        {
          "output_type": "execute_result",
          "data": {
            "text/latex": "$\\displaystyle 3$",
            "text/plain": [
              "3"
            ]
          },
          "metadata": {
            "tags": []
          },
          "execution_count": 1452
        }
      ]
    },
    {
      "cell_type": "code",
      "metadata": {
        "colab": {
          "base_uri": "https://localhost:8080/",
          "height": 37
        },
        "id": "8QHR2xe1-3WZ",
        "outputId": "49e6eb4d-d470-40a1-abdd-73f3b5682973"
      },
      "source": [
        "A1 = sp.Matrix([[-1, 2, 0], [5, 1, -2], [6, 3, 4]])\r\n",
        "A1.rank()"
      ],
      "execution_count": 1453,
      "outputs": [
        {
          "output_type": "execute_result",
          "data": {
            "text/latex": "$\\displaystyle 3$",
            "text/plain": [
              "3"
            ]
          },
          "metadata": {
            "tags": []
          },
          "execution_count": 1453
        }
      ]
    },
    {
      "cell_type": "markdown",
      "metadata": {
        "id": "9cK6GmAU-9nM"
      },
      "source": [
        "###Problem 3  \r\n",
        "####Find the number of solutions for linear equations with the following augmented\r\n",
        "matrices A˜ = [A b]:"
      ]
    },
    {
      "cell_type": "code",
      "metadata": {
        "colab": {
          "base_uri": "https://localhost:8080/"
        },
        "id": "55NYr6VN_Elv",
        "outputId": "641a5ddd-6782-4f84-b50c-07696ddf4c80"
      },
      "source": [
        "A1= np.array([[2, -1, 3],\r\n",
        "              [-1, 4, -1],\r\n",
        "              [0, 10, 15],\r\n",
        "              [20, 10, 1]])\r\n",
        "\r\n",
        "b = np.array([[0], \r\n",
        "              [10],\r\n",
        "              [50],\r\n",
        "             [40]],)\r\n",
        "x, residuals, rank, s = np.linalg.lstsq(A1,b)\r\n",
        "\r\n",
        "print(x)"
      ],
      "execution_count": 1454,
      "outputs": [
        {
          "output_type": "stream",
          "text": [
            "[[0.36426356]\n",
            " [3.1409319 ]\n",
            " [1.2271284 ]]\n"
          ],
          "name": "stdout"
        },
        {
          "output_type": "stream",
          "text": [
            "/usr/local/lib/python3.7/dist-packages/ipykernel_launcher.py:10: FutureWarning: `rcond` parameter will change to the default of machine precision times ``max(M, N)`` where M and N are the input matrix dimensions.\n",
            "To use the future default and silence this warning we advise to pass `rcond=None`, to keep using the old, explicitly pass `rcond=-1`.\n",
            "  # Remove the CWD from sys.path while we load stuff.\n"
          ],
          "name": "stderr"
        }
      ]
    },
    {
      "cell_type": "code",
      "metadata": {
        "colab": {
          "base_uri": "https://localhost:8080/"
        },
        "id": "9gJoIW5z_Ixm",
        "outputId": "6c9edcf2-5ac7-4b4b-e61d-a42d42d51404"
      },
      "source": [
        "A2 = np.array([[4, 1, 0, 4], \r\n",
        "               [5, -3, 1, 2], \r\n",
        "               [-9, 2, -1, 5]]) \r\n",
        "               \r\n",
        "b = np.array([[4], \r\n",
        "               [2], \r\n",
        "               [80]],)\r\n",
        "x, residuals, rank, s = np.linalg.lstsq(A2,b)\r\n",
        "\r\n",
        "print(x)"
      ],
      "execution_count": 1455,
      "outputs": [
        {
          "output_type": "stream",
          "text": [
            "[[-5.65953654]\n",
            " [-4.63458111]\n",
            " [ 0.75757576]\n",
            " [ 7.81818182]]\n"
          ],
          "name": "stdout"
        },
        {
          "output_type": "stream",
          "text": [
            "/usr/local/lib/python3.7/dist-packages/ipykernel_launcher.py:8: FutureWarning: `rcond` parameter will change to the default of machine precision times ``max(M, N)`` where M and N are the input matrix dimensions.\n",
            "To use the future default and silence this warning we advise to pass `rcond=None`, to keep using the old, explicitly pass `rcond=-1`.\n",
            "  \n"
          ],
          "name": "stderr"
        }
      ]
    },
    {
      "cell_type": "markdown",
      "metadata": {
        "id": "XKtsUZw-_gnm"
      },
      "source": [
        "###Problem 4\r\n",
        "####Find eigenvalues and eigenvectors of"
      ]
    },
    {
      "cell_type": "code",
      "metadata": {
        "colab": {
          "base_uri": "https://localhost:8080/"
        },
        "id": "qsL8zxMy_oQ_",
        "outputId": "3cb10174-5f86-4e5e-a36d-0fcf98408c6e"
      },
      "source": [
        "A = np.array([[-5, 0], [0, 3]])\r\n",
        "evals, evecs = np.linalg.eig(A)\r\n",
        "evals"
      ],
      "execution_count": 1456,
      "outputs": [
        {
          "output_type": "execute_result",
          "data": {
            "text/plain": [
              "array([-5.,  3.])"
            ]
          },
          "metadata": {
            "tags": []
          },
          "execution_count": 1456
        }
      ]
    },
    {
      "cell_type": "code",
      "metadata": {
        "colab": {
          "base_uri": "https://localhost:8080/"
        },
        "id": "jHJDakgH_wr4",
        "outputId": "e535d912-093a-4a15-dd58-3d77eb28291c"
      },
      "source": [
        "evecs"
      ],
      "execution_count": 1457,
      "outputs": [
        {
          "output_type": "execute_result",
          "data": {
            "text/plain": [
              "array([[1., 0.],\n",
              "       [0., 1.]])"
            ]
          },
          "metadata": {
            "tags": []
          },
          "execution_count": 1457
        }
      ]
    },
    {
      "cell_type": "code",
      "metadata": {
        "colab": {
          "base_uri": "https://localhost:8080/"
        },
        "id": "evQrMgEn_3IC",
        "outputId": "ac6643f6-940b-4d7a-9986-135c098978f4"
      },
      "source": [
        "B = np.array([[-1, 2], [5,2]])\r\n",
        "evals, evecs = np.linalg.eig(B)\r\n",
        "evals"
      ],
      "execution_count": 1458,
      "outputs": [
        {
          "output_type": "execute_result",
          "data": {
            "text/plain": [
              "array([-3.,  4.])"
            ]
          },
          "metadata": {
            "tags": []
          },
          "execution_count": 1458
        }
      ]
    },
    {
      "cell_type": "code",
      "metadata": {
        "colab": {
          "base_uri": "https://localhost:8080/"
        },
        "id": "fboJrYNd_9Cs",
        "outputId": "cd2cbb77-275f-4423-bca6-1c7347b79cc2"
      },
      "source": [
        "evecs"
      ],
      "execution_count": 1459,
      "outputs": [
        {
          "output_type": "execute_result",
          "data": {
            "text/plain": [
              "array([[-0.70710678, -0.37139068],\n",
              "       [ 0.70710678, -0.92847669]])"
            ]
          },
          "metadata": {
            "tags": []
          },
          "execution_count": 1459
        }
      ]
    },
    {
      "cell_type": "markdown",
      "metadata": {
        "id": "QMEXRND-AAtU"
      },
      "source": [
        "###Problem 5\r\n",
        "#### Diagonalize the following matrices in the form of A = VDV^−1 or A = VDV^T :"
      ]
    },
    {
      "cell_type": "code",
      "metadata": {
        "colab": {
          "base_uri": "https://localhost:8080/"
        },
        "id": "uXOGT9jdAHsi",
        "outputId": "37ab9c81-a5c0-4bc5-d2c3-8e6c3ddf8547"
      },
      "source": [
        "# (a)\r\n",
        "A=np.array([[1,-3],[4,10]])\r\n",
        "A"
      ],
      "execution_count": 1460,
      "outputs": [
        {
          "output_type": "execute_result",
          "data": {
            "text/plain": [
              "array([[ 1, -3],\n",
              "       [ 4, 10]])"
            ]
          },
          "metadata": {
            "tags": []
          },
          "execution_count": 1460
        }
      ]
    },
    {
      "cell_type": "code",
      "metadata": {
        "colab": {
          "base_uri": "https://localhost:8080/"
        },
        "id": "pMxJ68A5AXC-",
        "outputId": "77a42a72-455f-4e3c-e449-0dc254cf14f0"
      },
      "source": [
        "evals, evecs = np.linalg.eig(A)\r\n",
        "evals"
      ],
      "execution_count": 1461,
      "outputs": [
        {
          "output_type": "execute_result",
          "data": {
            "text/plain": [
              "array([2.62771868, 8.37228132])"
            ]
          },
          "metadata": {
            "tags": []
          },
          "execution_count": 1461
        }
      ]
    },
    {
      "cell_type": "code",
      "metadata": {
        "colab": {
          "base_uri": "https://localhost:8080/"
        },
        "id": "lBx6U9d9Af9M",
        "outputId": "57cddfd4-8962-4690-9af6-8c1a9b259c4f"
      },
      "source": [
        "evecs\r\n"
      ],
      "execution_count": 1462,
      "outputs": [
        {
          "output_type": "execute_result",
          "data": {
            "text/plain": [
              "array([[-0.87895817,  0.37691734],\n",
              "       [ 0.47689888, -0.9262469 ]])"
            ]
          },
          "metadata": {
            "tags": []
          },
          "execution_count": 1462
        }
      ]
    },
    {
      "cell_type": "code",
      "metadata": {
        "colab": {
          "base_uri": "https://localhost:8080/"
        },
        "id": "glIwSO2RAif4",
        "outputId": "063c772d-73b1-4034-83de-08816326685e"
      },
      "source": [
        "A=evecs@np.diag(evals)@np.linalg.inv(evecs)\r\n",
        "A "
      ],
      "execution_count": 1463,
      "outputs": [
        {
          "output_type": "execute_result",
          "data": {
            "text/plain": [
              "array([[ 1., -3.],\n",
              "       [ 4., 10.]])"
            ]
          },
          "metadata": {
            "tags": []
          },
          "execution_count": 1463
        }
      ]
    },
    {
      "cell_type": "code",
      "metadata": {
        "colab": {
          "base_uri": "https://localhost:8080/"
        },
        "id": "7Ml0Kn-zAt6c",
        "outputId": "d2265664-fb1a-4fd7-904c-9f1d35aca7a3"
      },
      "source": [
        "# (b)\r\n",
        "A = np.array([[4, 3, 6],[3, -8, 15],[6, 15, 10]])\r\n",
        "A"
      ],
      "execution_count": 1464,
      "outputs": [
        {
          "output_type": "execute_result",
          "data": {
            "text/plain": [
              "array([[ 4,  3,  6],\n",
              "       [ 3, -8, 15],\n",
              "       [ 6, 15, 10]])"
            ]
          },
          "metadata": {
            "tags": []
          },
          "execution_count": 1464
        }
      ]
    },
    {
      "cell_type": "code",
      "metadata": {
        "colab": {
          "base_uri": "https://localhost:8080/"
        },
        "id": "XoLz7YanAvl_",
        "outputId": "a7b87b52-699a-49b9-cd04-1a0581bfc3af"
      },
      "source": [
        "evals, evecs = np.linalg.eig(A)\r\n",
        "evals"
      ],
      "execution_count": 1465,
      "outputs": [
        {
          "output_type": "execute_result",
          "data": {
            "text/plain": [
              "array([ 21.11555196,   1.38351895, -16.49907091])"
            ]
          },
          "metadata": {
            "tags": []
          },
          "execution_count": 1465
        }
      ]
    },
    {
      "cell_type": "code",
      "metadata": {
        "colab": {
          "base_uri": "https://localhost:8080/"
        },
        "id": "kgPkbd4kA34C",
        "outputId": "d5913336-2fbf-4f9f-dc0f-b2e33e68d90f"
      },
      "source": [
        "evecs"
      ],
      "execution_count": 1466,
      "outputs": [
        {
          "output_type": "execute_result",
          "data": {
            "text/plain": [
              "array([[ 0.36454588,  0.9310118 , -0.0179812 ],\n",
              "       [ 0.4558759 , -0.19527336, -0.86835792],\n",
              "       [ 0.81196272, -0.30835911,  0.49561194]])"
            ]
          },
          "metadata": {
            "tags": []
          },
          "execution_count": 1466
        }
      ]
    },
    {
      "cell_type": "code",
      "metadata": {
        "colab": {
          "base_uri": "https://localhost:8080/"
        },
        "id": "PPMSkK9jA6_d",
        "outputId": "62abed20-c443-4291-dcd5-6523913d820d"
      },
      "source": [
        "A=evecs@np.diag(evals)@np.linalg.inv(evecs)\r\n",
        "A "
      ],
      "execution_count": 1467,
      "outputs": [
        {
          "output_type": "execute_result",
          "data": {
            "text/plain": [
              "array([[ 4.,  3.,  6.],\n",
              "       [ 3., -8., 15.],\n",
              "       [ 6., 15., 10.]])"
            ]
          },
          "metadata": {
            "tags": []
          },
          "execution_count": 1467
        }
      ]
    },
    {
      "cell_type": "markdown",
      "metadata": {
        "id": "5b2ubwZIA-9w"
      },
      "source": [
        "###Problem 6\r\n",
        "#### Find SVD for the following matrices:"
      ]
    },
    {
      "cell_type": "code",
      "metadata": {
        "colab": {
          "base_uri": "https://localhost:8080/"
        },
        "id": "RN1C96yyBD2y",
        "outputId": "ea1ca444-1f8a-4949-8098-0fba1921f2d4"
      },
      "source": [
        "# (a)\r\n",
        "A = np.array([[1, 2], [3, 4], [5, 6]])\r\n",
        "print(A)"
      ],
      "execution_count": 1468,
      "outputs": [
        {
          "output_type": "stream",
          "text": [
            "[[1 2]\n",
            " [3 4]\n",
            " [5 6]]\n"
          ],
          "name": "stdout"
        }
      ]
    },
    {
      "cell_type": "code",
      "metadata": {
        "colab": {
          "base_uri": "https://localhost:8080/"
        },
        "id": "U_FTg_OGBYPW",
        "outputId": "9f474cdb-260f-4591-bddf-af63543b0cb5"
      },
      "source": [
        " [U, S, V] = np.linalg.svd(A)\r\n",
        " print(U)\r\n",
        " print(S)\r\n",
        " print(V)"
      ],
      "execution_count": 1469,
      "outputs": [
        {
          "output_type": "stream",
          "text": [
            "[[-0.2298477   0.88346102  0.40824829]\n",
            " [-0.52474482  0.24078249 -0.81649658]\n",
            " [-0.81964194 -0.40189603  0.40824829]]\n",
            "[9.52551809 0.51430058]\n",
            "[[-0.61962948 -0.78489445]\n",
            " [-0.78489445  0.61962948]]\n"
          ],
          "name": "stdout"
        }
      ]
    },
    {
      "cell_type": "code",
      "metadata": {
        "colab": {
          "base_uri": "https://localhost:8080/"
        },
        "id": "JnMwt94vCDDK",
        "outputId": "71024ca1-339c-4ed4-9190-f7f14319f794"
      },
      "source": [
        "# (b)\r\n",
        "A = np.array([[0, 1, 0, 0], [0, 0, 4, 0], [0, 0, 0, 9], [0, 0, 0, 0]])\r\n",
        "print(A)"
      ],
      "execution_count": 1470,
      "outputs": [
        {
          "output_type": "stream",
          "text": [
            "[[0 1 0 0]\n",
            " [0 0 4 0]\n",
            " [0 0 0 9]\n",
            " [0 0 0 0]]\n"
          ],
          "name": "stdout"
        }
      ]
    },
    {
      "cell_type": "code",
      "metadata": {
        "colab": {
          "base_uri": "https://localhost:8080/"
        },
        "id": "ClTnMnsRCPXu",
        "outputId": "71b4b0f6-2f7c-4e2b-db03-a9e95176fd5d"
      },
      "source": [
        " [U, S, V] = np.linalg.svd(A)\r\n",
        " print(U)\r\n",
        " print(S)\r\n",
        " print(V)"
      ],
      "execution_count": 1471,
      "outputs": [
        {
          "output_type": "stream",
          "text": [
            "[[0. 0. 1. 0.]\n",
            " [0. 1. 0. 0.]\n",
            " [1. 0. 0. 0.]\n",
            " [0. 0. 0. 1.]]\n",
            "[9. 4. 1. 0.]\n",
            "[[ 0.  0.  0.  1.]\n",
            " [ 0.  0.  1.  0.]\n",
            " [ 0.  1.  0.  0.]\n",
            " [-1.  0.  0.  0.]]\n"
          ],
          "name": "stdout"
        }
      ]
    },
    {
      "cell_type": "markdown",
      "metadata": {
        "id": "q8oudAauGx4n"
      },
      "source": [
        "###Problem 8\r\n",
        "#### Check out the definiteness of the following quadratic expressions:"
      ]
    },
    {
      "cell_type": "code",
      "metadata": {
        "colab": {
          "base_uri": "https://localhost:8080/"
        },
        "id": "wrOUmpX5G4-5",
        "outputId": "1ef7135f-1f85-4a86-8af6-e3b938561abb"
      },
      "source": [
        "# (a)\r\n",
        "x1,x2 = sp.symbols(\"x1 x2\") #Crear variables simbólicas\r\n",
        "x = sp.Matrix([[x1],[x2]]) #Agruparlas en una matriz\r\n",
        "Q = sp.Matrix([[1,3],[3,1]]) \r\n",
        "print('x = %s'%x)\r\n",
        "print('Q = %s'%Q)"
      ],
      "execution_count": 1472,
      "outputs": [
        {
          "output_type": "stream",
          "text": [
            "x = Matrix([[x1], [x2]])\n",
            "Q = Matrix([[1, 3], [3, 1]])\n"
          ],
          "name": "stdout"
        }
      ]
    },
    {
      "cell_type": "code",
      "metadata": {
        "colab": {
          "base_uri": "https://localhost:8080/"
        },
        "id": "yj_VtAGdLKm5",
        "outputId": "daea56a4-08b9-48d1-b655-7919900edb1a"
      },
      "source": [
        "QuadForm = x.T@Q@x #Cálculo forma cuadrática\r\n",
        "print('La forma cuadratica de Q es %s'%QuadForm)"
      ],
      "execution_count": 1473,
      "outputs": [
        {
          "output_type": "stream",
          "text": [
            "La forma cuadratica de Q es Matrix([[x1*(x1 + 3*x2) + x2*(3*x1 + x2)]])\n"
          ],
          "name": "stdout"
        }
      ]
    },
    {
      "cell_type": "code",
      "metadata": {
        "colab": {
          "base_uri": "https://localhost:8080/",
          "height": 38
        },
        "id": "3hGlI4AXL-5l",
        "outputId": "3d0d1524-1bb3-4932-d59d-d2c9754a52ac"
      },
      "source": [
        "# Gradiente\r\n",
        "x1,x2= sp.symbols(\"x1, x2\") #Crear variables simbólicas\r\n",
        "x = np.array([x1,x2])\r\n",
        "fx =  x1**2 + 6*x1*x2 + x2**2\r\n",
        "fx"
      ],
      "execution_count": 1474,
      "outputs": [
        {
          "output_type": "execute_result",
          "data": {
            "text/latex": "$\\displaystyle x_{1}^{2} + 6 x_{1} x_{2} + x_{2}^{2}$",
            "text/plain": [
              "  2               2\n",
              "x₁  + 6⋅x₁⋅x₂ + x₂ "
            ]
          },
          "metadata": {
            "tags": []
          },
          "execution_count": 1474
        }
      ]
    },
    {
      "cell_type": "code",
      "metadata": {
        "colab": {
          "base_uri": "https://localhost:8080/",
          "height": 38
        },
        "id": "-qit7-qhL-5m",
        "outputId": "028a9e5b-99e3-4c56-dab0-92e00a2ded0c"
      },
      "source": [
        "gradf = [fx.diff(x) for x in (x1, x2)] #Gradiente de f(x)\r\n",
        "gradf"
      ],
      "execution_count": 1475,
      "outputs": [
        {
          "output_type": "execute_result",
          "data": {
            "text/latex": "$\\displaystyle \\left[ 2 x_{1} + 6 x_{2}, \\  6 x_{1} + 2 x_{2}\\right]$",
            "text/plain": [
              "[2⋅x₁ + 6⋅x₂, 6⋅x₁ + 2⋅x₂]"
            ]
          },
          "metadata": {
            "tags": []
          },
          "execution_count": 1475
        }
      ]
    },
    {
      "cell_type": "code",
      "metadata": {
        "colab": {
          "base_uri": "https://localhost:8080/"
        },
        "id": "vU2bj2LNLvYU",
        "outputId": "5ee0efe3-1faf-4866-8e40-31f6d6450f03"
      },
      "source": [
        "# (b)\r\n",
        "x1,x2 = sp.symbols(\"x1 x2\") #Crear variables simbólicas\r\n",
        "x = sp.Matrix([[x1],[x2]]) #Agruparlas en una matriz\r\n",
        "Q = sp.Matrix([[2,3],[3,-2]]) \r\n",
        "print('x = %s'%x)\r\n",
        "print('Q = %s'%Q)\r\n"
      ],
      "execution_count": 1476,
      "outputs": [
        {
          "output_type": "stream",
          "text": [
            "x = Matrix([[x1], [x2]])\n",
            "Q = Matrix([[2, 3], [3, -2]])\n"
          ],
          "name": "stdout"
        }
      ]
    },
    {
      "cell_type": "code",
      "metadata": {
        "colab": {
          "base_uri": "https://localhost:8080/"
        },
        "id": "PuwStWJzMrEl",
        "outputId": "07c88ee8-3091-4e8d-ce8f-182ed40c340c"
      },
      "source": [
        "QuadForm = x.T@Q@x #Cálculo forma cuadrática\r\n",
        "print('La forma cuadratica de Q es %s'%QuadForm)"
      ],
      "execution_count": 1477,
      "outputs": [
        {
          "output_type": "stream",
          "text": [
            "La forma cuadratica de Q es Matrix([[x1*(2*x1 + 3*x2) + x2*(3*x1 - 2*x2)]])\n"
          ],
          "name": "stdout"
        }
      ]
    },
    {
      "cell_type": "code",
      "metadata": {
        "colab": {
          "base_uri": "https://localhost:8080/",
          "height": 38
        },
        "id": "ibfCQLxcL8wy",
        "outputId": "de851cfa-5de3-4081-9321-9fb92ef38999"
      },
      "source": [
        "# Gradiente\r\n",
        "x1,x2 = sp.symbols(\"x1, x2, \") #Crear variables simbólicas\r\n",
        "x = np.array([x1,x2,x3])\r\n",
        "fx =  2*x1**2 + 6*x1*x2 - 2*x2**2\r\n",
        "fx"
      ],
      "execution_count": 1478,
      "outputs": [
        {
          "output_type": "execute_result",
          "data": {
            "text/latex": "$\\displaystyle 2 x_{1}^{2} + 6 x_{1} x_{2} - 2 x_{2}^{2}$",
            "text/plain": [
              "    2                 2\n",
              "2⋅x₁  + 6⋅x₁⋅x₂ - 2⋅x₂ "
            ]
          },
          "metadata": {
            "tags": []
          },
          "execution_count": 1478
        }
      ]
    },
    {
      "cell_type": "code",
      "metadata": {
        "colab": {
          "base_uri": "https://localhost:8080/",
          "height": 38
        },
        "id": "3KJ0HcFqL8xR",
        "outputId": "5feb9ecd-2e99-448a-c77e-7d4f89d2ab12"
      },
      "source": [
        "gradf = [fx.diff(x) for x in (x1, x2)] #Gradiente de f(x)\r\n",
        "gradf"
      ],
      "execution_count": 1479,
      "outputs": [
        {
          "output_type": "execute_result",
          "data": {
            "text/latex": "$\\displaystyle \\left[ 4 x_{1} + 6 x_{2}, \\  6 x_{1} - 4 x_{2}\\right]$",
            "text/plain": [
              "[4⋅x₁ + 6⋅x₂, 6⋅x₁ - 4⋅x₂]"
            ]
          },
          "metadata": {
            "tags": []
          },
          "execution_count": 1479
        }
      ]
    },
    {
      "cell_type": "code",
      "metadata": {
        "colab": {
          "base_uri": "https://localhost:8080/",
          "height": 38
        },
        "id": "aOy1mJ4hOiWv",
        "outputId": "d05e1b06-53b2-4008-c451-3a0aeba9bcb0"
      },
      "source": [
        "# (c) Gradiente\r\n",
        "x1,x2,x3= sp.symbols(\"x1, x2,x3 \") #Crear variables simbólicas\r\n",
        "x = np.array([x1,x2,x3])\r\n",
        "fx =  x1**2 \r\n",
        "fx"
      ],
      "execution_count": 1480,
      "outputs": [
        {
          "output_type": "execute_result",
          "data": {
            "text/latex": "$\\displaystyle x_{1}^{2}$",
            "text/plain": [
              "  2\n",
              "x₁ "
            ]
          },
          "metadata": {
            "tags": []
          },
          "execution_count": 1480
        }
      ]
    },
    {
      "cell_type": "code",
      "metadata": {
        "colab": {
          "base_uri": "https://localhost:8080/",
          "height": 38
        },
        "id": "I8EnsbEXNcNJ",
        "outputId": "026d9a72-2d26-496b-e118-1e909f431331"
      },
      "source": [
        "gradf = [fx.diff(x) for x in (x1, x2, x3)] #Gradiente de f(x)\r\n",
        "gradf"
      ],
      "execution_count": 1481,
      "outputs": [
        {
          "output_type": "execute_result",
          "data": {
            "text/latex": "$\\displaystyle \\left[ 2 x_{1}, \\  0, \\  0\\right]$",
            "text/plain": [
              "[2⋅x₁, 0, 0]"
            ]
          },
          "metadata": {
            "tags": []
          },
          "execution_count": 1481
        }
      ]
    },
    {
      "cell_type": "code",
      "metadata": {
        "colab": {
          "base_uri": "https://localhost:8080/",
          "height": 38
        },
        "id": "2yb4F2BGOvSg",
        "outputId": "07d3221c-6f65-4cc3-f55f-db8e5dc892e8"
      },
      "source": [
        "# (d) Gradiente\r\n",
        "x1,x2,x3= sp.symbols(\"x1, x2,x3 \") #Crear variables simbólicas\r\n",
        "x = np.array([x1,x2,x3])\r\n",
        "fx =  x1**2 + x3**2 + 2*x1*x2 + 2*x1*x3 + 2*x2*x3\r\n",
        "fx\r\n",
        "\r\n"
      ],
      "execution_count": 1482,
      "outputs": [
        {
          "output_type": "execute_result",
          "data": {
            "text/latex": "$\\displaystyle x_{1}^{2} + 2 x_{1} x_{2} + 2 x_{1} x_{3} + 2 x_{2} x_{3} + x_{3}^{2}$",
            "text/plain": [
              "  2                                   2\n",
              "x₁  + 2⋅x₁⋅x₂ + 2⋅x₁⋅x₃ + 2⋅x₂⋅x₃ + x₃ "
            ]
          },
          "metadata": {
            "tags": []
          },
          "execution_count": 1482
        }
      ]
    },
    {
      "cell_type": "code",
      "metadata": {
        "colab": {
          "base_uri": "https://localhost:8080/",
          "height": 38
        },
        "id": "hvP7-CKmQnmF",
        "outputId": "75f61f93-c898-44ff-c34a-f3abc7909867"
      },
      "source": [
        "gradf = [fx.diff(x) for x in (x1, x2, x3)] #Gradiente de f(x)\r\n",
        "gradf"
      ],
      "execution_count": 1483,
      "outputs": [
        {
          "output_type": "execute_result",
          "data": {
            "text/latex": "$\\displaystyle \\left[ 2 x_{1} + 2 x_{2} + 2 x_{3}, \\  2 x_{1} + 2 x_{3}, \\  2 x_{1} + 2 x_{2} + 2 x_{3}\\right]$",
            "text/plain": [
              "[2⋅x₁ + 2⋅x₂ + 2⋅x₃, 2⋅x₁ + 2⋅x₃, 2⋅x₁ + 2⋅x₂ + 2⋅x₃]"
            ]
          },
          "metadata": {
            "tags": []
          },
          "execution_count": 1483
        }
      ]
    },
    {
      "cell_type": "markdown",
      "metadata": {
        "id": "BWYG5tmmSlOi"
      },
      "source": [
        "### Problem 10\r\n",
        "####  Show that row rank and column rank are equal for the following matrix:"
      ]
    },
    {
      "cell_type": "code",
      "metadata": {
        "colab": {
          "base_uri": "https://localhost:8080/",
          "height": 78
        },
        "id": "nPzskxRcSqci",
        "outputId": "66f5a6fa-af19-4bfc-a472-b7333524e127"
      },
      "source": [
        "# Con herramienta SymPy\r\n",
        "A = sympy.Matrix ([[1,0,2,2],[-2,42,24,4],[7,-21,0,-5]])\r\n",
        "A"
      ],
      "execution_count": 1484,
      "outputs": [
        {
          "output_type": "execute_result",
          "data": {
            "text/latex": "$\\displaystyle \\left[\\begin{matrix}1 & 0 & 2 & 2\\\\-2 & 42 & 24 & 4\\\\7 & -21 & 0 & -5\\end{matrix}\\right]$",
            "text/plain": [
              "⎡1    0   2   2 ⎤\n",
              "⎢               ⎥\n",
              "⎢-2  42   24  4 ⎥\n",
              "⎢               ⎥\n",
              "⎣7   -21  0   -5⎦"
            ]
          },
          "metadata": {
            "tags": []
          },
          "execution_count": 1484
        }
      ]
    },
    {
      "cell_type": "code",
      "metadata": {
        "colab": {
          "base_uri": "https://localhost:8080/",
          "height": 37
        },
        "id": "WalOfBBVTQ8G",
        "outputId": "5814d9e6-f8bd-44bb-8776-7dba6688be49"
      },
      "source": [
        "A.rank()"
      ],
      "execution_count": 1485,
      "outputs": [
        {
          "output_type": "execute_result",
          "data": {
            "text/latex": "$\\displaystyle 3$",
            "text/plain": [
              "3"
            ]
          },
          "metadata": {
            "tags": []
          },
          "execution_count": 1485
        }
      ]
    },
    {
      "cell_type": "code",
      "metadata": {
        "colab": {
          "base_uri": "https://localhost:8080/"
        },
        "id": "5MaBtTktWAAX",
        "outputId": "020065da-3e3c-47a9-c598-83094703ec54"
      },
      "source": [
        "# Con herramienta Numpy\r\n",
        "A=np.array([[1,0,2,2],[-2,42,24,4],[7,-21,0,-5]])\r\n",
        "np.linalg.matrix_rank(A)"
      ],
      "execution_count": 1486,
      "outputs": [
        {
          "output_type": "execute_result",
          "data": {
            "text/plain": [
              "3"
            ]
          },
          "metadata": {
            "tags": []
          },
          "execution_count": 1486
        }
      ]
    }
  ]
}
